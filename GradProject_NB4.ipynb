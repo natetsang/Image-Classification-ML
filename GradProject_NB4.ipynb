{
 "cells": [
  {
   "cell_type": "markdown",
   "metadata": {},
   "source": [
    "<h1> DS200A Computer Vision Assignment</h1>"
   ]
  },
  {
   "cell_type": "markdown",
   "metadata": {},
   "source": [
    "<h2>  Part Four: Extension Activities</h2>\t\n"
   ]
  },
  {
   "cell_type": "markdown",
   "metadata": {},
   "source": [
    "TensorFlow (Optional)- Now, try using TensorFlow to categorize your images. The accuracy should be significantly higher due to the usage of nueral nets\n",
    "\n"
   ]
  },
  {
   "cell_type": "code",
   "execution_count": 1,
   "metadata": {},
   "outputs": [
    {
     "name": "stderr",
     "output_type": "stream",
     "text": [
      "Using TensorFlow backend.\n"
     ]
    }
   ],
   "source": [
    "import pandas as pd\n",
    "import numpy as np\n",
    "import os\n",
    "from pathlib import Path\n",
    "from skimage.color import rgb2gray\n",
    "from keras.models import Sequential\n",
    "from keras.layers import Conv2D, MaxPooling2D\n",
    "from keras.layers import Activation, Dropout, Flatten, Dense\n",
    "from skimage.transform import resize\n",
    "from sklearn.model_selection import train_test_split\n",
    "from skimage import io"
   ]
  },
  {
   "cell_type": "code",
   "execution_count": 3,
   "metadata": {
    "scrolled": true
   },
   "outputs": [
    {
     "data": {
      "text/html": [
       "<div>\n",
       "<style scoped>\n",
       "    .dataframe tbody tr th:only-of-type {\n",
       "        vertical-align: middle;\n",
       "    }\n",
       "\n",
       "    .dataframe tbody tr th {\n",
       "        vertical-align: top;\n",
       "    }\n",
       "\n",
       "    .dataframe thead th {\n",
       "        text-align: right;\n",
       "    }\n",
       "</style>\n",
       "<table border=\"1\" class=\"dataframe\">\n",
       "  <thead>\n",
       "    <tr style=\"text-align: right;\">\n",
       "      <th></th>\n",
       "      <th>name</th>\n",
       "      <th>image</th>\n",
       "      <th>category</th>\n",
       "      <th>encoding</th>\n",
       "    </tr>\n",
       "  </thead>\n",
       "  <tbody>\n",
       "    <tr>\n",
       "      <th>0</th>\n",
       "      <td>airplanes/airplanes_0001.jpg</td>\n",
       "      <td>[[[255, 255, 255], [255, 255, 255], [255, 255,...</td>\n",
       "      <td>airplanes</td>\n",
       "      <td>0</td>\n",
       "    </tr>\n",
       "    <tr>\n",
       "      <th>1</th>\n",
       "      <td>airplanes/airplanes_0002.jpg</td>\n",
       "      <td>[[[255, 255, 255], [255, 255, 255], [255, 255,...</td>\n",
       "      <td>airplanes</td>\n",
       "      <td>0</td>\n",
       "    </tr>\n",
       "    <tr>\n",
       "      <th>2</th>\n",
       "      <td>airplanes/airplanes_0003.jpg</td>\n",
       "      <td>[[[255, 255, 255], [255, 255, 255], [255, 255,...</td>\n",
       "      <td>airplanes</td>\n",
       "      <td>0</td>\n",
       "    </tr>\n",
       "    <tr>\n",
       "      <th>3</th>\n",
       "      <td>airplanes/airplanes_0004.jpg</td>\n",
       "      <td>[[[174, 190, 187], [173, 189, 186], [172, 188,...</td>\n",
       "      <td>airplanes</td>\n",
       "      <td>0</td>\n",
       "    </tr>\n",
       "    <tr>\n",
       "      <th>4</th>\n",
       "      <td>airplanes/airplanes_0005.jpg</td>\n",
       "      <td>[[[255, 255, 255], [255, 255, 255], [255, 255,...</td>\n",
       "      <td>airplanes</td>\n",
       "      <td>0</td>\n",
       "    </tr>\n",
       "  </tbody>\n",
       "</table>\n",
       "</div>"
      ],
      "text/plain": [
       "                           name  \\\n",
       "0  airplanes/airplanes_0001.jpg   \n",
       "1  airplanes/airplanes_0002.jpg   \n",
       "2  airplanes/airplanes_0003.jpg   \n",
       "3  airplanes/airplanes_0004.jpg   \n",
       "4  airplanes/airplanes_0005.jpg   \n",
       "\n",
       "                                               image   category  encoding  \n",
       "0  [[[255, 255, 255], [255, 255, 255], [255, 255,...  airplanes         0  \n",
       "1  [[[255, 255, 255], [255, 255, 255], [255, 255,...  airplanes         0  \n",
       "2  [[[255, 255, 255], [255, 255, 255], [255, 255,...  airplanes         0  \n",
       "3  [[[174, 190, 187], [173, 189, 186], [172, 188,...  airplanes         0  \n",
       "4  [[[255, 255, 255], [255, 255, 255], [255, 255,...  airplanes         0  "
      ]
     },
     "execution_count": 3,
     "metadata": {},
     "output_type": "execute_result"
    }
   ],
   "source": [
    "def TF(X_train,y_train):\n",
    "\n",
    "    model = Sequential()\n",
    "    model.add(Conv2D(32, kernel_size=(3, 3), input_shape=(105, 105, 1), activation='relu'))\n",
    "    model.add(MaxPooling2D(pool_size=(2, 2)))\n",
    "    model.add(Conv2D(64, (3, 3)))\n",
    "    model.add(Activation('relu'))\n",
    "    model.add(MaxPooling2D(pool_size=(2, 2)))\n",
    "    model.add(Flatten())\n",
    "    model.add(Dense(64))\n",
    "    model.add(Activation('relu'))\n",
    "    model.add(Dropout(0.5))\n",
    "    model.add(Dense(20))\n",
    "    model.add(Activation('sigmoid'))\n",
    "    model.compile(loss='binary_crossentropy',optimizer='rmsprop',metrics=['accuracy'])\n",
    "    model.fit(X_train,y_train,batch_size=250,epochs=5,verbose=1,validation_split=0.2)\n",
    "    \n",
    "    return model\n",
    "\n",
    "# Load training data \n",
    "training_data_path = Path(\"cleaned_train.pkl\") \n",
    "data_from_nb1 = pd.read_pickle(training_data_path)\n",
    "\n",
    "# Tranform into grayscale(as not all images are coloured) and convert it into same size\n",
    "nn_input = data_from_nb1.apply(lambda x: resize(rgb2gray(x['image']), (105, 105)), axis=1)\n",
    "X = np.array([list(i.reshape(105,105,1)) for i in nn_input])\n",
    "y = pd.get_dummies(data_from_nb1['encoding'])\n",
    "\n",
    "#Split into train and test\n",
    "X_train, X_val, y_train, y_val = train_test_split(X, y, test_size=0.20, random_state = 42)\n",
    "\n",
    "#Fit the model\n",
    "model_nn = TF(X_train,y_train)\n",
    "\n",
    "scores = model_nn.evaluate(X_val, y_val)\n",
    "print('Accuracy on test data: ', scores[1])"
   ]
  },
  {
   "cell_type": "code",
   "execution_count": 5,
   "metadata": {},
   "outputs": [
    {
     "data": {
      "text/html": [
       "<div>\n",
       "<style scoped>\n",
       "    .dataframe tbody tr th:only-of-type {\n",
       "        vertical-align: middle;\n",
       "    }\n",
       "\n",
       "    .dataframe tbody tr th {\n",
       "        vertical-align: top;\n",
       "    }\n",
       "\n",
       "    .dataframe thead th {\n",
       "        text-align: right;\n",
       "    }\n",
       "</style>\n",
       "<table border=\"1\" class=\"dataframe\">\n",
       "  <thead>\n",
       "    <tr style=\"text-align: right;\">\n",
       "      <th></th>\n",
       "      <th>image</th>\n",
       "    </tr>\n",
       "  </thead>\n",
       "  <tbody>\n",
       "    <tr>\n",
       "      <th>0</th>\n",
       "      <td>[[[48, 53, 57], [52, 57, 63], [54, 59, 65], [4...</td>\n",
       "    </tr>\n",
       "    <tr>\n",
       "      <th>1</th>\n",
       "      <td>[[[213, 173, 85], [213, 173, 85], [213, 173, 8...</td>\n",
       "    </tr>\n",
       "    <tr>\n",
       "      <th>2</th>\n",
       "      <td>[[[19, 36, 30], [14, 31, 25], [11, 26, 21], [1...</td>\n",
       "    </tr>\n",
       "    <tr>\n",
       "      <th>3</th>\n",
       "      <td>[[[95, 138, 69], [95, 138, 69], [95, 138, 69],...</td>\n",
       "    </tr>\n",
       "    <tr>\n",
       "      <th>4</th>\n",
       "      <td>[[[162, 204, 242], [164, 203, 242], [164, 203,...</td>\n",
       "    </tr>\n",
       "  </tbody>\n",
       "</table>\n",
       "</div>"
      ],
      "text/plain": [
       "                                               image\n",
       "0  [[[48, 53, 57], [52, 57, 63], [54, 59, 65], [4...\n",
       "1  [[[213, 173, 85], [213, 173, 85], [213, 173, 8...\n",
       "2  [[[19, 36, 30], [14, 31, 25], [11, 26, 21], [1...\n",
       "3  [[[95, 138, 69], [95, 138, 69], [95, 138, 69],...\n",
       "4  [[[162, 204, 242], [164, 203, 242], [164, 203,..."
      ]
     },
     "execution_count": 5,
     "metadata": {},
     "output_type": "execute_result"
    }
   ],
   "source": [
    "# Train final model on whole training data set \n",
    "model_nn = TF(X, y) \n",
    "\n",
    "# Load test data \n",
    "test_path = '20_Validation/' # Wrong naming in project should be 20_Test \n",
    "file_list= os.listdir(test_path)\n",
    "images = [io.imread(test_path + animal) \n",
    "              for animal in file_list \n",
    "              if os.path.isfile(test_path + animal)]\n",
    "test_df = pd.DataFrame(images, columns=['image'])\n",
    "\n",
    "# Tranform input\n",
    "test_df = test_df.apply(lambda x: resize(rgb2gray(x['image']), (105, 105)), axis=1)\n",
    "X_test = np.array([list(i.reshape(105,105,1)) for i in test_df])\n",
    "\n",
    "# Predict using model\n",
    "predictions = model_nn.predict(X_test)\n",
    "\n",
    "# Outputting the to a csv\n",
    "output_file_name = 'test_results_neural_network'\n",
    "pd.DataFrame(predictions).apply(lambda x: np.argmax(x), axis=1).to_csv(output_file_name)\n",
    "print('Saved output to: ', output_file_name)"
   ]
  },
  {
   "cell_type": "code",
   "execution_count": null,
   "metadata": {},
   "outputs": [],
   "source": []
  }
 ],
 "metadata": {
  "kernelspec": {
   "display_name": "Python 3",
   "language": "python",
   "name": "python3"
  },
  "language_info": {
   "codemirror_mode": {
    "name": "ipython",
    "version": 3
   },
   "file_extension": ".py",
   "mimetype": "text/x-python",
   "name": "python",
   "nbconvert_exporter": "python",
   "pygments_lexer": "ipython3",
   "version": "3.6.8"
  }
 },
 "nbformat": 4,
 "nbformat_minor": 2
}
