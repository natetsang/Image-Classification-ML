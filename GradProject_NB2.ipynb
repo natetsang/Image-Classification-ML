{
 "cells": [
  {
   "cell_type": "markdown",
   "metadata": {},
   "source": [
    "<h1> DS200A Computer Vision Assignment</h1>"
   ]
  },
  {
   "cell_type": "markdown",
   "metadata": {},
   "source": [
    "<h2>  Part Two: Feature Selection </h2>\t\n"
   ]
  },
  {
   "cell_type": "markdown",
   "metadata": {},
   "source": [
    "<h4> In this section, we would like you to select between 15 and 20 features to focus your model on. This will require significant explatoratory research. The first one is already implemented for you, and the next two are pre-specified.  </h4>"
   ]
  },
  {
   "cell_type": "code",
   "execution_count": 1,
   "metadata": {},
   "outputs": [],
   "source": [
    "from pathlib import Path\n",
    "import pandas as pd\n",
    "import numpy as np\n",
    "import matplotlib.pyplot as plt\n",
    "from skimage.feature import blob_dog, blob_log, blob_doh, peak_local_max\n",
    "from skimage.color import rgb2gray\n",
    "import cv2"
   ]
  },
  {
   "cell_type": "code",
   "execution_count": 2,
   "metadata": {},
   "outputs": [],
   "source": [
    "def get_data(isTest=False):\n",
    "    if isTest:\n",
    "        cacheName = 'cleaned_test.pkl'\n",
    "    else:\n",
    "        cacheName = 'cleaned_train.pkl'\n",
    "        \n",
    "    if Path(cacheName).is_file():\n",
    "        return pd.read_pickle(cacheName)\n",
    "    else:\n",
    "        print(\"Datafile does not yet exist!\")\n",
    "\n",
    "data_from_nb1 = get_data(isTest=False)"
   ]
  },
  {
   "cell_type": "code",
   "execution_count": 3,
   "metadata": {
    "scrolled": false
   },
   "outputs": [
    {
     "data": {
      "text/html": [
       "<div>\n",
       "<style scoped>\n",
       "    .dataframe tbody tr th:only-of-type {\n",
       "        vertical-align: middle;\n",
       "    }\n",
       "\n",
       "    .dataframe tbody tr th {\n",
       "        vertical-align: top;\n",
       "    }\n",
       "\n",
       "    .dataframe thead th {\n",
       "        text-align: right;\n",
       "    }\n",
       "</style>\n",
       "<table border=\"1\" class=\"dataframe\">\n",
       "  <thead>\n",
       "    <tr style=\"text-align: right;\">\n",
       "      <th></th>\n",
       "      <th>Folder name</th>\n",
       "      <th>Image name</th>\n",
       "      <th>Image object</th>\n",
       "      <th>Encoding</th>\n",
       "    </tr>\n",
       "  </thead>\n",
       "  <tbody>\n",
       "    <tr>\n",
       "      <th>0</th>\n",
       "      <td>airplanes</td>\n",
       "      <td>airplanes_0001.jpg</td>\n",
       "      <td>[[[255, 255, 255], [255, 255, 255], [255, 255,...</td>\n",
       "      <td>0</td>\n",
       "    </tr>\n",
       "    <tr>\n",
       "      <th>1</th>\n",
       "      <td>airplanes</td>\n",
       "      <td>airplanes_0002.jpg</td>\n",
       "      <td>[[[255, 255, 255], [255, 255, 255], [255, 255,...</td>\n",
       "      <td>0</td>\n",
       "    </tr>\n",
       "    <tr>\n",
       "      <th>2</th>\n",
       "      <td>airplanes</td>\n",
       "      <td>airplanes_0003.jpg</td>\n",
       "      <td>[[[255, 255, 255], [255, 255, 255], [255, 255,...</td>\n",
       "      <td>0</td>\n",
       "    </tr>\n",
       "    <tr>\n",
       "      <th>3</th>\n",
       "      <td>airplanes</td>\n",
       "      <td>airplanes_0004.jpg</td>\n",
       "      <td>[[[174, 190, 187], [173, 189, 186], [172, 188,...</td>\n",
       "      <td>0</td>\n",
       "    </tr>\n",
       "    <tr>\n",
       "      <th>4</th>\n",
       "      <td>airplanes</td>\n",
       "      <td>airplanes_0005.jpg</td>\n",
       "      <td>[[[255, 255, 255], [255, 255, 255], [255, 255,...</td>\n",
       "      <td>0</td>\n",
       "    </tr>\n",
       "  </tbody>\n",
       "</table>\n",
       "</div>"
      ],
      "text/plain": [
       "  Folder name          Image name  \\\n",
       "0   airplanes  airplanes_0001.jpg   \n",
       "1   airplanes  airplanes_0002.jpg   \n",
       "2   airplanes  airplanes_0003.jpg   \n",
       "3   airplanes  airplanes_0004.jpg   \n",
       "4   airplanes  airplanes_0005.jpg   \n",
       "\n",
       "                                        Image object  Encoding  \n",
       "0  [[[255, 255, 255], [255, 255, 255], [255, 255,...         0  \n",
       "1  [[[255, 255, 255], [255, 255, 255], [255, 255,...         0  \n",
       "2  [[[255, 255, 255], [255, 255, 255], [255, 255,...         0  \n",
       "3  [[[174, 190, 187], [173, 189, 186], [172, 188,...         0  \n",
       "4  [[[255, 255, 255], [255, 255, 255], [255, 255,...         0  "
      ]
     },
     "execution_count": 3,
     "metadata": {},
     "output_type": "execute_result"
    }
   ],
   "source": [
    "data_from_nb1.head(2)"
   ]
  },
  {
   "cell_type": "code",
   "execution_count": 69,
   "metadata": {},
   "outputs": [],
   "source": [
    "# Returns the pixel size of the image\n",
    "def ft0(image):\n",
    "    return image.size\n",
    "\n",
    "# Returns the average of the red-channel pictures for the images\n",
    "def ft1(image):\n",
    "    if len(image.shape) < 3:\n",
    "        return 0\n",
    "    return np.mean([[r for [r, g, b] in pixel] for pixel in image])\n",
    "    \n",
    "#Returns the aspect ratio of the image\n",
    "def ft2(image):\n",
    "    return image.shape[1] / image.shape[0]\n",
    "\n",
    "# Returns the average of the green-channel pictures for the images\n",
    "def ft3(image):\n",
    "    if len(image.shape) < 3:\n",
    "        return 0\n",
    "    return np.mean([[g for [r, g, b] in pixel] for pixel in image])\n",
    "\n",
    "# Returns the average of the blue-channel pictures for the images\n",
    "def ft4(image):\n",
    "    if len(image.shape) < 3:\n",
    "        return 0\n",
    "    return np.mean([[b for [r, g, b] in pixel] for pixel in image])\n",
    "\n",
    "# Returns the median of the red-channel pictures for the images\n",
    "def ft5(image):\n",
    "    if len(image.shape) < 3:\n",
    "        return 0\n",
    "    return np.median([[r for [r, g, b] in pixel] for pixel in image])\n",
    "\n",
    "# Returns the median of the green-channel pictures for the images\n",
    "def ft6(image):\n",
    "    if len(image.shape) < 3:\n",
    "        return 0\n",
    "    return np.median([[g for [r, g, b] in pixel] for pixel in image])\n",
    "\n",
    "# Returns the median of the blue-channel pictures for the images\n",
    "def ft7(image):\n",
    "    if len(image.shape) < 3:\n",
    "        return 0\n",
    "    return np.median([[b for [r, g, b] in pixel] for pixel in image])\n",
    "\n",
    "# Returns the stdev of the red-channel pictures for the images\n",
    "def ft8(image):\n",
    "    if len(image.shape) < 3:\n",
    "        return 0\n",
    "    return np.std([[r for [r, g, b] in pixel] for pixel in image])\n",
    "\n",
    "# Returns the stdev of the green-channel pictures for the images\n",
    "def ft9(image):\n",
    "    if len(image.shape) < 3:\n",
    "        return 0\n",
    "    return np.std([[g for [r, g, b] in pixel] for pixel in image])\n",
    "\n",
    "# Returns the median of the blue-channel pictures for the images\n",
    "def ft10(image):\n",
    "    if len(image.shape) < 3:\n",
    "        return 0\n",
    "    return np.std([[b for [r, g, b] in pixel] for pixel in image])\n",
    "\n",
    "# Returns the mean luminance for the images\n",
    "def ft11(image):\n",
    "    return np.mean(rgb2gray(image))\n",
    "\n",
    "# Returns the median luminance for the images\n",
    "def ft12(image):\n",
    "    return np.mean(rgb2gray(image))\n",
    "\n",
    "# Returns the stdev luminance for the images\n",
    "def ft13(image):\n",
    "    return np.std(rgb2gray(image))\n",
    "\n",
    "# Returns number of key points using ORB\n",
    "def ft14(image):\n",
    "    # Initiate STAR detector\n",
    "    orb = cv2.ORB_create()\n",
    "\n",
    "    # find the keypoints with ORB\n",
    "    kp = orb.detect(image,None)\n",
    "\n",
    "    # compute the descriptors with ORB\n",
    "    kp, des = orb.compute(image, kp)\n",
    "    return len(kp)\n",
    "\n",
    "# Returns number of blobs using Laplacian of Gaussian\n",
    "def ft15(image):\n",
    "    image_gray = rgb2gray(image)\n",
    "    blobs_log = blob_log(image_gray, max_sigma=30, num_sigma=10, threshold=.1)\n",
    "    return len(blobs_log)\n",
    "\n",
    "# Returns number of peaks, which are the local max in a region\n",
    "def ft16(image):\n",
    "    return len(peak_local_max(image))\n",
    "\n",
    "# Returns the average luminance of filtered image\n",
    "# The purpose of this is to approximate the amount of edges in the image\n",
    "def ft17(image):\n",
    "    return np.mean(filters.sobel(rgb2gray(image)))"
   ]
  },
  {
   "cell_type": "code",
   "execution_count": 17,
   "metadata": {},
   "outputs": [],
   "source": [
    "# TESTS\n",
    "\n",
    "def test_ft1(image):\n",
    "    assert ft1(image) == np.mean([2,4,10,12,20,40,100,120]), \\\n",
    "        f\"Answer received: {ft1(image)}, Answer expected:{np.mean([2,4,10,12,20,40,100,120])}\"\n",
    "    print(\"PASS ft1 test\")\n",
    "\n",
    "def test_ft2(image):\n",
    "    assert ft2(image) == 2, \\\n",
    "        f\"Answer received: {ft2(image)}, Answer expected: 2\"\n",
    "    print(\"PASS ft2 test\")\n",
    "    \n",
    "def test_ft3(image):\n",
    "    assert ft3(image) == np.mean([0,0,1,3,4,5,5,6]), \\\n",
    "        f\"Answer received: {ft3(image)}, Answer expected:{np.mean([0,0,1,3,4,5,5,6])}\"\n",
    "    print(\"PASS ft3 test\")\n",
    "    \n",
    "def test_ft4(image):\n",
    "    assert ft4(image) == np.mean([5,5,6,7,7,8,9,10]), \\\n",
    "        f\"Answer received: {ft4(image)}, Answer expected:{np.mean([5,5,6,7,7,8,9,10])}\"    \n",
    "    print(\"PASS ft4 test\")\n",
    "\n",
    "def test_ft5(image):\n",
    "    assert ft5(image) == np.median([2,4,10,12,20,40,100,120]), \\\n",
    "        f\"Answer received: {ft5(image)}, Answer expected:{np.mean([2,4,10,12,20,40,100,120])}\"\n",
    "    print(\"PASS ft5 test\")\n",
    "\n",
    "def test_ft6(image):\n",
    "    assert ft6(image) == np.median([0,0,1,3,4,5,5,6]), \\\n",
    "        f\"Answer received: {ft6(image)}, Answer expected:{np.median([0,0,1,3,4,5,5,6])}\"\n",
    "    print(\"PASS ft6 test\")\n",
    "\n",
    "def test_ft7(image):\n",
    "    assert ft7(image) == np.median([5,5,6,7,7,8,9,10]), \\\n",
    "        f\"Answer received: {ft7(image)}, Answer expected:{np.median([5,5,6,7,7,8,9,10])}\"  \n",
    "    print(\"PASS ft7 test\") \n",
    "\n",
    "def test_ft8(image):\n",
    "    assert ft8(image) == np.std([2,4,10,12,20,40,100,120]), \\\n",
    "        f\"Answer received: {ft8(image)}, Answer expected:{np.std([2,4,10,12,20,40,100,120])}\" \n",
    "    print(\"PASS ft8 test\")\n",
    "\n",
    "def test_ft9(image):\n",
    "    assert ft9(image) == np.std([0,0,1,3,4,5,5,6]), \\\n",
    "        f\"Answer received: {ft9(image)}, Answer expected:{np.std([0,0,1,3,4,5,5,6])}\" \n",
    "    print(\"PASS ft9 test\")\n",
    "\n",
    "def test_ft10(image):\n",
    "    assert ft10(image) == np.std([5,5,6,7,7,8,9,10])  , \\\n",
    "        f\"Answer received: {ft10(image)}, Answer expected:{np.std([5,5,6,7,7,8,9,10])}\" \n",
    "    print(\"PASS ft10 test\")  "
   ]
  },
  {
   "cell_type": "code",
   "execution_count": 18,
   "metadata": {},
   "outputs": [
    {
     "name": "stdout",
     "output_type": "stream",
     "text": [
      "PASS ft1 test\n",
      "PASS ft2 test\n",
      "PASS ft3 test\n",
      "PASS ft4 test\n",
      "PASS ft5 test\n",
      "PASS ft6 test\n",
      "PASS ft7 test\n",
      "PASS ft8 test\n",
      "PASS ft9 test\n",
      "PASS ft10 test\n",
      "----\n",
      "ALL TESTS PASSED!\n"
     ]
    }
   ],
   "source": [
    "def run_all_tests():\n",
    "    image = np.array([[ [2, 0, 5],\n",
    "                    [4, 0, 5],\n",
    "                    [10, 1, 6],\n",
    "                    [12, 3, 7]],\n",
    "\n",
    "                   [[20, 4, 7],\n",
    "                    [40, 5, 8],\n",
    "                    [100, 5, 9],\n",
    "                    [120, 6, 10]]])\n",
    "    test_ft1(image)\n",
    "    test_ft2(image)\n",
    "    test_ft3(image)\n",
    "    test_ft4(image)\n",
    "    test_ft5(image)\n",
    "    test_ft6(image)\n",
    "    test_ft7(image)\n",
    "    test_ft8(image)\n",
    "    test_ft9(image)\n",
    "    test_ft10(image)\n",
    "    print(\"----\\nALL TESTS PASSED!\")\n",
    "    \n",
    "run_all_tests()"
   ]
  },
  {
   "cell_type": "markdown",
   "metadata": {},
   "source": [
    "Define more features above, performing any EDA research below. We expect all external sources sited, and a couple significant different graphs indicating some form of EDA. "
   ]
  },
  {
   "cell_type": "markdown",
   "metadata": {},
   "source": [
    "<h4> Graphs </h4>"
   ]
  },
  {
   "cell_type": "code",
   "execution_count": null,
   "metadata": {},
   "outputs": [],
   "source": [
    "# NEED 3+ graphs!"
   ]
  },
  {
   "cell_type": "markdown",
   "metadata": {},
   "source": [
    "<h4> Sources </h4>"
   ]
  },
  {
   "cell_type": "markdown",
   "metadata": {},
   "source": [
    "* https://scikit-image.org/\n",
    "* https://docs.opencv.org/3.0-beta/doc/py_tutorials/py_feature2d/py_orb/py_orb.html#orb"
   ]
  },
  {
   "cell_type": "markdown",
   "metadata": {},
   "source": [
    "<h4> DataFrame Creation </h4>"
   ]
  },
  {
   "cell_type": "code",
   "execution_count": 70,
   "metadata": {},
   "outputs": [],
   "source": [
    "# THIS IS REALLY, REALLY, SLOW!!!!\n",
    "\n",
    "def feature_frame(df):\n",
    "    df_new = df.copy()\n",
    "    func_lst = [f'ft{x}' for x in range(1,17)]\n",
    "\n",
    "    for func in func_lst:\n",
    "        df_new[func] = eval(\"df_new['Image object'].apply(\" + func + \")\")\n",
    "    \n",
    "    return df_new\n",
    "    #Returns data-frame with all the features now inside, and calculated"
   ]
  },
  {
   "cell_type": "code",
   "execution_count": null,
   "metadata": {},
   "outputs": [],
   "source": [
    "feature_frame(data_from_nb1)"
   ]
  }
 ],
 "metadata": {
  "kernelspec": {
   "display_name": "Python 3",
   "language": "python",
   "name": "python3"
  },
  "language_info": {
   "codemirror_mode": {
    "name": "ipython",
    "version": 3
   },
   "file_extension": ".py",
   "mimetype": "text/x-python",
   "name": "python",
   "nbconvert_exporter": "python",
   "pygments_lexer": "ipython3",
   "version": "3.6.5"
  }
 },
 "nbformat": 4,
 "nbformat_minor": 2
}
