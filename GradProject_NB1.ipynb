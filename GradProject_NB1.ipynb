{
 "cells": [
  {
   "cell_type": "markdown",
   "metadata": {},
   "source": [
    "<h1> DS200A Computer Vision Assignment</h1>"
   ]
  },
  {
   "cell_type": "markdown",
   "metadata": {},
   "source": [
    "<h2>  Part One: Data Preparation </h2>\t\n"
   ]
  },
  {
   "cell_type": "markdown",
   "metadata": {},
   "source": [
    "<h3>  Import Statements </h3>\t"
   ]
  },
  {
   "cell_type": "code",
   "execution_count": 1,
   "metadata": {},
   "outputs": [],
   "source": [
    "import numpy as np\n",
    "import pandas as pd\n",
    "import skimage\n",
    "import os\n",
    "import zipfile \n",
    "from zipfile import ZipFile\n",
    "import re \n",
    "from skimage import io\n",
    "from pathlib import Path"
   ]
  },
  {
   "cell_type": "markdown",
   "metadata": {},
   "source": [
    "### Zip Helper Method"
   ]
  },
  {
   "cell_type": "code",
   "execution_count": 2,
   "metadata": {},
   "outputs": [],
   "source": [
    "def remove_directory_file_spaces_zip(dir_name='20_Validation'): \n",
    "    \"\"\"\n",
    "    Removes spaces in file names of specified directory in zip file.\n",
    "    The zip file name should be specified from the root directory. \n",
    "    Extracts the zip file, trims the filenames and rezips the file.\n",
    "    \n",
    "    Keyword arguments: \n",
    "    dir_name (string) -- name of zip file in root folder \n",
    "    \n",
    "    Returns: \n",
    "        None \n",
    "    \"\"\"\n",
    "    val_files_zip = zipfile.ZipFile(f\"{os.getcwd()}/{dir_name}.zip\")\n",
    "    val_files_zip.extractall(f\"{os.getcwd()}/{dir_name}/\")\n",
    "\n",
    "    current_directory = os.getcwd()\n",
    "    directory = f\"{current_directory}/{dir_name}\"\n",
    "    [os.rename(os.path.join(directory, f), \n",
    "               os.path.join(directory, f).replace(' ', '').lower()) \n",
    "     for f in os.listdir(directory)]\n",
    "\n",
    "    zf = ZipFile(f\"{dir_name}.zip\", \"w\")\n",
    "    for dirname, subdirs, files in os.walk(directory): \n",
    "        for filename in files:\n",
    "            zf.write(os.path.join(dirname, filename), filename)\n",
    "    zf.close()\n",
    "    \n",
    "remove_directory_file_spaces_zip() "
   ]
  },
  {
   "cell_type": "markdown",
   "metadata": {},
   "source": [
    "### RGB Helper Method"
   ]
  },
  {
   "cell_type": "code",
   "execution_count": 3,
   "metadata": {},
   "outputs": [],
   "source": [
    "def convert_gray(images):\n",
    "    \"\"\"\n",
    "    Creates RGB representation of gray-level images. \n",
    "    \n",
    "    Keyword arguments: \n",
    "    images (pd.Series) -- array containing image pixels \n",
    "    \n",
    "    Returns: \n",
    "        ndarray of images all with RGB representation\n",
    "        \n",
    "    \"\"\"\n",
    "    return images.apply(lambda image: skimage.color.grey2rgb(image) if len(image.shape) < 3 else image) "
   ]
  },
  {
   "cell_type": "markdown",
   "metadata": {},
   "source": [
    "### Read Image Data Method "
   ]
  },
  {
   "cell_type": "markdown",
   "metadata": {},
   "source": [
    "<h4> Using the code for reference, take the given folder and create a dataframe with the picture object, and the encoding as listed below. </h4>\t\n",
    "0=Airplanes, 1=Bear, 2=Blimp, 3=Comet, 4=Crab, 5=Dog, 6=Dolphin, 7=Giraffe, 8=Goat, 9=Gorilla, 10=Kangaroo, 11=Killer-Whale, 12=Leopards, 13=Llama, 14= Penguin, 15= Porcupine, 16=Teddy-Bear, 17=Triceratops, 18=Unicorn, 19=Zebra"
   ]
  },
  {
   "cell_type": "code",
   "execution_count": 48,
   "metadata": {},
   "outputs": [
    {
     "data": {
      "text/plain": [
       "WindowsPath('cleaned_test.pkl')"
      ]
     },
     "execution_count": 48,
     "metadata": {},
     "output_type": "execute_result"
    }
   ],
   "source": [
    "Path(\"/cleaned_test.pkl\")"
   ]
  },
  {
   "cell_type": "code",
   "execution_count": 35,
   "metadata": {},
   "outputs": [],
   "source": [
    "def read_organize_data(folder_name='20_categories_training', isTest=False, isCache=True):    \n",
    "    \"\"\"\n",
    "    Returns a dataframe with picture objects and category encodings of all images in folder. \n",
    "    \n",
    "    Keyword arguments:\n",
    "    folder_name (string) -- name of image folder in root directory \n",
    "    isTest (bool) -- Flag. True loads images from test set, False loads train set.\n",
    "    isCache (bool) -- Flag. True loads images from cache, False overwrites cached images.\n",
    "        \n",
    "    Return: \n",
    "        pd.DataFrame with image objects and category encodings \n",
    "    \"\"\"\n",
    "    # Read in cached file, if exists\n",
    "    cache_path = 'cleaned_test.pkl' if isTest else 'cleaned_train.pkl'\n",
    "    if Path(cache_path).is_file() and isCache: \n",
    "        print(f\"Loading cache {'test' if isTest else 'train'} file\")\n",
    "        return pd.read_pickle(cache_path)    \n",
    "    \n",
    "    folder_name = '20_Validation' if isTest else folder_name\n",
    "    img_dir_path = Path(f\"{os.getcwd()}/{folder_name}.zip\") \n",
    "    \n",
    "    category_zip = zipfile.ZipFile(f\"{os.getcwd()}/{folder_name}.zip\")\n",
    "    category_zip.extractall(f\"{os.getcwd()}/{folder_name}/\")\n",
    "    \n",
    "    image_names, category_names, images, encoding = get_image_data(folder_name, img_dir_path, isTest)\n",
    "    df = create_cleaned_df(image_names, images, category_names, encoding)          \n",
    "    \n",
    "    # Cache dataframe\n",
    "    if not Path(cache_path).is_file() or isCache is False: \n",
    "        df.to_pickle(f\"./{cache_path}\")\n",
    "    \n",
    "    return df"
   ]
  },
  {
   "cell_type": "code",
   "execution_count": 36,
   "metadata": {},
   "outputs": [],
   "source": [
    "def get_image_data(folder_name, img_dir_path, isTest):\n",
    "    \"\"\"\n",
    "    Returns lists of image names, category names, and image pixels of all images in folder. \n",
    "    \n",
    "    Keyword arguments:\n",
    "    folder_name (string) -- path of image folder in root directory \n",
    "    img_dir_path (Path) -- path of image directory in root directory \n",
    "    isTest (bool) -- Flag. True loads images from test set, False loads train set.\n",
    "        \n",
    "    Return: \n",
    "        lists with image names, category names, and image objects \n",
    "    \"\"\"\n",
    "    image_names, category_names, images = [], [], []\n",
    "    \n",
    "    with ZipFile(img_dir_path, 'r') as images_zip: \n",
    "        for filename in images_zip.namelist(): \n",
    "            img_name = re.search(\"^.*.jpg\", filename)\n",
    "              \n",
    "            if img_name is not None and \"/._\" not in img_name.group(): \n",
    "                if ' ' in img_name.group(): \n",
    "                    continue \n",
    "                image_names.append(img_name.group())\n",
    "\n",
    "            if isTest: \n",
    "                img_path = Path(f\"{folder_name}/{img_name.group()}\")\n",
    "                images.append(io.imread(img_path))\n",
    "                continue \n",
    "            \n",
    "            category_name = re.search(\"(.*)/\", filename)\n",
    "            if category_name and \"/._\" not in img_name.group(): \n",
    "                category_name = category_name.group().replace(\"/\", \"\")\n",
    "                category_names.append(category_name)\n",
    "                category_path = Path(f\"{folder_name}/{img_name.group()}\")\n",
    "                image = io.imread(category_path)\n",
    "                images.append(image)\n",
    "                \n",
    "    if not isTest:\n",
    "        encoding = encode_categories(category_names)\n",
    "        return image_names, category_names, images, encoding\n",
    "    return image_names, category_names, images, _"
   ]
  },
  {
   "cell_type": "code",
   "execution_count": 37,
   "metadata": {},
   "outputs": [],
   "source": [
    "def encode_categories(category_names):\n",
    "    \"\"\"\n",
    "    Returns list category encodings of all images in folder. \n",
    "    \n",
    "    Keyword arguments:\n",
    "    category_names (list) -- category names of all images \n",
    "        \n",
    "    Return: \n",
    "        list with category name encodings of all images\n",
    "    \"\"\"\n",
    "    encoding_dict = {0:'airplanes', 1:'bear', 2:'blimp', 3:'comet', 4:'crab', \\\n",
    "                    5:'dog', 6:'dolphin', 7:'giraffe', 8:'goat', 9:'gorilla', \\\n",
    "                    10:'kangaroo', 11:'killer-whale', 12:'leopards', 13:'llama', \\\n",
    "                    14:'penguin', 15:'porcupine', 16:'teddy-bear', 17:'triceratops', \\\n",
    "                    18:'unicorn', 19:'zebra'}\n",
    "    encoding_dict = {v: k for k, v in encoding_dict.items()}\n",
    "    return [encoding_dict[cat_name] for cat_name in category_names]"
   ]
  },
  {
   "cell_type": "code",
   "execution_count": 38,
   "metadata": {},
   "outputs": [],
   "source": [
    "def create_cleaned_df(image_names, images, category_names=None, encoding=None):\n",
    "    \"\"\"\n",
    "    Returns a dataframe with picture objects and category encodings of all images in folder. \n",
    "    \n",
    "    Keyword arguments:\n",
    "    image_names (list) -- name of all images\n",
    "    images (list) -- image objects of all images\n",
    "    category_names (list) -- category names of all images \n",
    "    encoding (list) -- category encodings of all images\n",
    "    \n",
    "    Return: \n",
    "        pd.DataFrame with image objects and category encodings \n",
    "    \"\"\"\n",
    "    df = pd.DataFrame() \n",
    "    df['name'] = image_names\n",
    "    df['image'] = images\n",
    "    df['image'] = convert_gray(df['image'])\n",
    "    \n",
    "    if category_names and encoding:\n",
    "        df['category'] = category_names\n",
    "        df['encoding'] = encoding\n",
    "    return df"
   ]
  },
  {
   "cell_type": "markdown",
   "metadata": {},
   "source": [
    "### Measure Reading Time "
   ]
  },
  {
   "cell_type": "code",
   "execution_count": 39,
   "metadata": {},
   "outputs": [
    {
     "name": "stdout",
     "output_type": "stream",
     "text": [
      "Seconds: 13.74\n",
      "Training images loaded: 1501\n",
      "Test images loaded: 716\n"
     ]
    }
   ],
   "source": [
    "import time \n",
    "t1 = time.time()\n",
    "training_data = read_organize_data(isTest=False, isCache=True)\n",
    "validation_data = read_organize_data(isTest=True, isCache=True)\n",
    "t2 = time.time()\n",
    "print(f\"Seconds: {round(t2 - t1, 2)}\")\n",
    "print(f\"Training images loaded: {len(training_data)}\")\n",
    "print(f\"Test images loaded: {len(validation_data)}\")"
   ]
  },
  {
   "cell_type": "code",
   "execution_count": 23,
   "metadata": {},
   "outputs": [
    {
     "name": "stdout",
     "output_type": "stream",
     "text": [
      "Loading cache train file\n"
     ]
    }
   ],
   "source": [
    "starting_data = read_organize_data(isTest=False, isCache=True)"
   ]
  },
  {
   "cell_type": "code",
   "execution_count": 24,
   "metadata": {},
   "outputs": [
    {
     "data": {
      "text/html": [
       "<div>\n",
       "<style scoped>\n",
       "    .dataframe tbody tr th:only-of-type {\n",
       "        vertical-align: middle;\n",
       "    }\n",
       "\n",
       "    .dataframe tbody tr th {\n",
       "        vertical-align: top;\n",
       "    }\n",
       "\n",
       "    .dataframe thead th {\n",
       "        text-align: right;\n",
       "    }\n",
       "</style>\n",
       "<table border=\"1\" class=\"dataframe\">\n",
       "  <thead>\n",
       "    <tr style=\"text-align: right;\">\n",
       "      <th></th>\n",
       "      <th>name</th>\n",
       "      <th>image</th>\n",
       "      <th>category</th>\n",
       "      <th>encoding</th>\n",
       "    </tr>\n",
       "  </thead>\n",
       "  <tbody>\n",
       "  </tbody>\n",
       "</table>\n",
       "</div>"
      ],
      "text/plain": [
       "Empty DataFrame\n",
       "Columns: [name, image, category, encoding]\n",
       "Index: []"
      ]
     },
     "execution_count": 24,
     "metadata": {},
     "output_type": "execute_result"
    }
   ],
   "source": [
    "# Check if any pixels in images do not have RGB representation after cleanup\n",
    "starting_data[starting_data['image'].apply(lambda x: len(x.shape) < 3)]"
   ]
  },
  {
   "cell_type": "code",
   "execution_count": 25,
   "metadata": {},
   "outputs": [
    {
     "data": {
      "text/html": [
       "<div>\n",
       "<style scoped>\n",
       "    .dataframe tbody tr th:only-of-type {\n",
       "        vertical-align: middle;\n",
       "    }\n",
       "\n",
       "    .dataframe tbody tr th {\n",
       "        vertical-align: top;\n",
       "    }\n",
       "\n",
       "    .dataframe thead th {\n",
       "        text-align: right;\n",
       "    }\n",
       "</style>\n",
       "<table border=\"1\" class=\"dataframe\">\n",
       "  <thead>\n",
       "    <tr style=\"text-align: right;\">\n",
       "      <th></th>\n",
       "      <th>name</th>\n",
       "      <th>image</th>\n",
       "      <th>category</th>\n",
       "      <th>encoding</th>\n",
       "    </tr>\n",
       "  </thead>\n",
       "  <tbody>\n",
       "    <tr>\n",
       "      <th>0</th>\n",
       "      <td>airplanes/airplanes_0001.jpg</td>\n",
       "      <td>[[[255, 255, 255], [255, 255, 255], [255, 255,...</td>\n",
       "      <td>airplanes</td>\n",
       "      <td>0</td>\n",
       "    </tr>\n",
       "    <tr>\n",
       "      <th>1</th>\n",
       "      <td>airplanes/airplanes_0002.jpg</td>\n",
       "      <td>[[[255, 255, 255], [255, 255, 255], [255, 255,...</td>\n",
       "      <td>airplanes</td>\n",
       "      <td>0</td>\n",
       "    </tr>\n",
       "    <tr>\n",
       "      <th>2</th>\n",
       "      <td>airplanes/airplanes_0003.jpg</td>\n",
       "      <td>[[[255, 255, 255], [255, 255, 255], [255, 255,...</td>\n",
       "      <td>airplanes</td>\n",
       "      <td>0</td>\n",
       "    </tr>\n",
       "    <tr>\n",
       "      <th>3</th>\n",
       "      <td>airplanes/airplanes_0004.jpg</td>\n",
       "      <td>[[[174, 190, 187], [173, 189, 186], [172, 188,...</td>\n",
       "      <td>airplanes</td>\n",
       "      <td>0</td>\n",
       "    </tr>\n",
       "    <tr>\n",
       "      <th>4</th>\n",
       "      <td>airplanes/airplanes_0005.jpg</td>\n",
       "      <td>[[[255, 255, 255], [255, 255, 255], [255, 255,...</td>\n",
       "      <td>airplanes</td>\n",
       "      <td>0</td>\n",
       "    </tr>\n",
       "  </tbody>\n",
       "</table>\n",
       "</div>"
      ],
      "text/plain": [
       "                           name  \\\n",
       "0  airplanes/airplanes_0001.jpg   \n",
       "1  airplanes/airplanes_0002.jpg   \n",
       "2  airplanes/airplanes_0003.jpg   \n",
       "3  airplanes/airplanes_0004.jpg   \n",
       "4  airplanes/airplanes_0005.jpg   \n",
       "\n",
       "                                               image   category  encoding  \n",
       "0  [[[255, 255, 255], [255, 255, 255], [255, 255,...  airplanes         0  \n",
       "1  [[[255, 255, 255], [255, 255, 255], [255, 255,...  airplanes         0  \n",
       "2  [[[255, 255, 255], [255, 255, 255], [255, 255,...  airplanes         0  \n",
       "3  [[[174, 190, 187], [173, 189, 186], [172, 188,...  airplanes         0  \n",
       "4  [[[255, 255, 255], [255, 255, 255], [255, 255,...  airplanes         0  "
      ]
     },
     "execution_count": 25,
     "metadata": {},
     "output_type": "execute_result"
    }
   ],
   "source": [
    "starting_data.head()"
   ]
  },
  {
   "cell_type": "code",
   "execution_count": null,
   "metadata": {},
   "outputs": [],
   "source": []
  },
  {
   "cell_type": "code",
   "execution_count": null,
   "metadata": {},
   "outputs": [],
   "source": [
    "# Testing...For nate dev only\n",
    "\n",
    "df1 = pd.read_pickle('cleaned_train.pkl')\n",
    "df2 = pd.read_pickle('cleaned_train2.pkl')\n",
    "\n",
    "print(len(df1['encoding'] == df2['encoding']))\n",
    "\n",
    "sumsss = 0\n",
    "for i in range(len(df1)):\n",
    "    if df1['image'][i].all() == df2['image'][i].all():\n",
    "        sumsss += 1\n",
    "print(sumsss)"
   ]
  },
  {
   "cell_type": "code",
   "execution_count": null,
   "metadata": {},
   "outputs": [],
   "source": []
  }
 ],
 "metadata": {
  "kernelspec": {
   "display_name": "Python 3",
   "language": "python",
   "name": "python3"
  },
  "language_info": {
   "codemirror_mode": {
    "name": "ipython",
    "version": 3
   },
   "file_extension": ".py",
   "mimetype": "text/x-python",
   "name": "python",
   "nbconvert_exporter": "python",
   "pygments_lexer": "ipython3",
   "version": "3.6.8"
  }
 },
 "nbformat": 4,
 "nbformat_minor": 2
}
