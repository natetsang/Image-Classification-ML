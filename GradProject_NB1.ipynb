{
 "cells": [
  {
   "cell_type": "markdown",
   "metadata": {},
   "source": [
    "<h1> DS200A Computer Vision Assignment</h1>"
   ]
  },
  {
   "cell_type": "markdown",
   "metadata": {},
   "source": [
    "<h2>  Part One: Data Preparation </h2>\t\n"
   ]
  },
  {
   "cell_type": "markdown",
   "metadata": {},
   "source": [
    "<h3>  Import Statements </h3>\t\n"
   ]
  },
  {
   "cell_type": "code",
   "execution_count": 42,
   "metadata": {},
   "outputs": [],
   "source": [
    "#Import anything you need here\n",
    "import numpy as np\n",
    "import matplotlib.pyplot as plt\n",
    "import pandas as pd\n",
    "import matplotlib\n",
    "import skimage\n",
    "from skimage import data\n",
    "from skimage import io\n",
    "import os\n",
    "\n",
    "from zipfile import ZipFile \n",
    "import re\n",
    "from pathlib import Path\n",
    "\n",
    "from skimage.color import rgb2gray, gray2rgb"
   ]
  },
  {
   "cell_type": "code",
   "execution_count": 43,
   "metadata": {},
   "outputs": [],
   "source": [
    "#Example of reading in a file\n",
    "\n",
    "# filename = os.path.join(skimage.data_dir, 'd.jpg')\n",
    "# dog = io.imread(filename)\n",
    "# skimage.io.imshow(dog)\n",
    "\n",
    "# plt.show()\n",
    "# filename2 = os.path.join(skimage.data_dir, 'c.jpg')\n",
    "# cat = io.imread(filename2)\n",
    "# example_data_frame= pd.DataFrame()\n",
    "\n",
    "\n",
    "# example_data_frame['Pictures']=[dog, cat]\n",
    "# example_data_frame['Encoding']=[1,2]\n",
    "# example_data_frame"
   ]
  },
  {
   "cell_type": "markdown",
   "metadata": {},
   "source": [
    "<h4> Using the code for reference, take the given folder and create a dataframe with the picture object, and the encoding as listed below. </h4>\t\n",
    "0=Airplanes, 1=Bear, 2=Blimp, 3=Comet, 4=Crab, 5=Dog, 6=Dolphin, 7=Giraffe, 8=Goat, 9=Gorilla, 10=Kangaroo, 11=Killer-Whale, 12=Leopards, 13=Llama, 14= Penguin, 15= Porcupine, 16=Teddy-Bear, 17=Triceratops, 18=Unicorn, 19=Zebra"
   ]
  },
  {
   "cell_type": "code",
   "execution_count": 44,
   "metadata": {},
   "outputs": [],
   "source": [
    "def convert_grey(image):\n",
    "    if len(image.shape) < 3:\n",
    "        return gray2rgb(image)\n",
    "    return image"
   ]
  },
  {
   "cell_type": "code",
   "execution_count": 45,
   "metadata": {},
   "outputs": [],
   "source": [
    "def read_organize_data(isTest=False, cacheResults=True):\n",
    "    #Fill this function out, should return a dataframe with picture object, and correct encoding\n",
    "    \n",
    "    # If cached, return file'\n",
    "    if isTest:\n",
    "        cacheName = 'cleaned_test.pkl'\n",
    "    else:\n",
    "        cacheName = 'cleaned_train.pkl'\n",
    "        \n",
    "    if Path(cacheName).is_file() and cacheResults:\n",
    "        return pd.read_pickle(cacheName)\n",
    "    \n",
    "    image_names, folder_names, images = [], [], []\n",
    "    \n",
    "    # Define path\n",
    "    if isTest:\n",
    "        file_path = \"20_Validation.zip\"\n",
    "    else:\n",
    "        file_path = \"20_categories_training.zip\"\n",
    "    \n",
    "    # opening the zip file in READ mode \n",
    "    with ZipFile(file_path, 'r') as zip: \n",
    "        for info in zip.infolist():\n",
    "            \n",
    "            # Get file names\n",
    "            img_name = re.findall(\"/(.*)\", info.filename)            \n",
    "            hidden_file = \"._\" in str(img_name) or \" \" in str(img_name)\n",
    "            if img_name and not hidden_file:\n",
    "                img_name = img_name[0]\n",
    "                image_names.append(img_name) \n",
    "            \n",
    "            # Get folder names and image\n",
    "            folder_name = re.findall(\"(.*)/\", info.filename)\n",
    "            if folder_name and not hidden_file:\n",
    "                folder_name = folder_name[0]\n",
    "                folder_names.append(folder_name) \n",
    "                \n",
    "                filename = \"20_categories_training\" / Path(folder_name) / Path(img_name)\n",
    "                images.append(io.imread(filename))\n",
    "    \n",
    "    # Populate df\n",
    "    df = pd.DataFrame()\n",
    "    df['Folder name'] = folder_names\n",
    "    df['Image name'] = image_names\n",
    "    df['Image object'] = images\n",
    "    \n",
    "    # Convert grey-scale to RGB representative\n",
    "    df['Image object'] = df['Image object'].apply(lambda x: convert_grey(x))\n",
    "    \n",
    "    encoding = {0:'airplanes', 1:'bear', 2:'blimp', 3:'comet', 4:'crab', \\\n",
    "                5:'dog', 6:'dolphin', 7:'giraffe', 8:'goat', 9:'gorilla', \\\n",
    "                10:'kangaroo', 11:'killer-whale', 12:'leopards', 13:'llama', \\\n",
    "                14:'penguin', 15:'porcupine', 16:'teddy-bear', 17:'triceratops', \\\n",
    "                18:'unicorn', 19:'zebra'}\n",
    "    encoding = {v: k for k, v in encoding.items()}\n",
    "    df['Encoding'] = df['Folder name'].map(encoding)\n",
    "    \n",
    "    # Cache\n",
    "    if not Path(cacheName).is_file():\n",
    "        df.to_pickle(f'./{cacheName}')\n",
    "        \n",
    "    return df"
   ]
  },
  {
   "cell_type": "code",
   "execution_count": 46,
   "metadata": {
    "scrolled": true
   },
   "outputs": [
    {
     "name": "stdout",
     "output_type": "stream",
     "text": [
      "18.937308311462402\n"
     ]
    }
   ],
   "source": [
    "import time\n",
    "t1 = time.time()\n",
    "starting_data = read_organize_data(isTest=False, cacheResults=True)\n",
    "t2=time.time()\n",
    "\n",
    "print(t2-t1)"
   ]
  },
  {
   "cell_type": "code",
   "execution_count": 47,
   "metadata": {
    "scrolled": true
   },
   "outputs": [
    {
     "data": {
      "text/html": [
       "<div>\n",
       "<style scoped>\n",
       "    .dataframe tbody tr th:only-of-type {\n",
       "        vertical-align: middle;\n",
       "    }\n",
       "\n",
       "    .dataframe tbody tr th {\n",
       "        vertical-align: top;\n",
       "    }\n",
       "\n",
       "    .dataframe thead th {\n",
       "        text-align: right;\n",
       "    }\n",
       "</style>\n",
       "<table border=\"1\" class=\"dataframe\">\n",
       "  <thead>\n",
       "    <tr style=\"text-align: right;\">\n",
       "      <th></th>\n",
       "      <th>Folder name</th>\n",
       "      <th>Image name</th>\n",
       "      <th>Image object</th>\n",
       "      <th>Encoding</th>\n",
       "    </tr>\n",
       "  </thead>\n",
       "  <tbody>\n",
       "    <tr>\n",
       "      <th>0</th>\n",
       "      <td>airplanes</td>\n",
       "      <td>airplanes_0001.jpg</td>\n",
       "      <td>[[[255, 255, 255], [255, 255, 255], [255, 255,...</td>\n",
       "      <td>0</td>\n",
       "    </tr>\n",
       "    <tr>\n",
       "      <th>1</th>\n",
       "      <td>airplanes</td>\n",
       "      <td>airplanes_0002.jpg</td>\n",
       "      <td>[[[255, 255, 255], [255, 255, 255], [255, 255,...</td>\n",
       "      <td>0</td>\n",
       "    </tr>\n",
       "    <tr>\n",
       "      <th>2</th>\n",
       "      <td>airplanes</td>\n",
       "      <td>airplanes_0003.jpg</td>\n",
       "      <td>[[[255, 255, 255], [255, 255, 255], [255, 255,...</td>\n",
       "      <td>0</td>\n",
       "    </tr>\n",
       "    <tr>\n",
       "      <th>3</th>\n",
       "      <td>airplanes</td>\n",
       "      <td>airplanes_0004.jpg</td>\n",
       "      <td>[[[174, 190, 187], [173, 189, 186], [172, 188,...</td>\n",
       "      <td>0</td>\n",
       "    </tr>\n",
       "    <tr>\n",
       "      <th>4</th>\n",
       "      <td>airplanes</td>\n",
       "      <td>airplanes_0005.jpg</td>\n",
       "      <td>[[[255, 255, 255], [255, 255, 255], [255, 255,...</td>\n",
       "      <td>0</td>\n",
       "    </tr>\n",
       "  </tbody>\n",
       "</table>\n",
       "</div>"
      ],
      "text/plain": [
       "  Folder name          Image name  \\\n",
       "0   airplanes  airplanes_0001.jpg   \n",
       "1   airplanes  airplanes_0002.jpg   \n",
       "2   airplanes  airplanes_0003.jpg   \n",
       "3   airplanes  airplanes_0004.jpg   \n",
       "4   airplanes  airplanes_0005.jpg   \n",
       "\n",
       "                                        Image object  Encoding  \n",
       "0  [[[255, 255, 255], [255, 255, 255], [255, 255,...         0  \n",
       "1  [[[255, 255, 255], [255, 255, 255], [255, 255,...         0  \n",
       "2  [[[255, 255, 255], [255, 255, 255], [255, 255,...         0  \n",
       "3  [[[174, 190, 187], [173, 189, 186], [172, 188,...         0  \n",
       "4  [[[255, 255, 255], [255, 255, 255], [255, 255,...         0  "
      ]
     },
     "execution_count": 47,
     "metadata": {},
     "output_type": "execute_result"
    }
   ],
   "source": [
    "starting_data.head()"
   ]
  },
  {
   "cell_type": "code",
   "execution_count": null,
   "metadata": {},
   "outputs": [],
   "source": []
  },
  {
   "cell_type": "code",
   "execution_count": null,
   "metadata": {},
   "outputs": [],
   "source": []
  },
  {
   "cell_type": "code",
   "execution_count": null,
   "metadata": {},
   "outputs": [],
   "source": []
  },
  {
   "cell_type": "markdown",
   "metadata": {},
   "source": [
    "### Testing"
   ]
  },
  {
   "cell_type": "code",
   "execution_count": 10,
   "metadata": {},
   "outputs": [
    {
     "ename": "NameError",
     "evalue": "name 'gray_to_rgb' is not defined",
     "output_type": "error",
     "traceback": [
      "\u001b[1;31m---------------------------------------------------------------------------\u001b[0m",
      "\u001b[1;31mNameError\u001b[0m                                 Traceback (most recent call last)",
      "\u001b[1;32m<ipython-input-10-fc003c199e0c>\u001b[0m in \u001b[0;36m<module>\u001b[1;34m()\u001b[0m\n\u001b[0;32m     11\u001b[0m \u001b[0mimage\u001b[0m \u001b[1;33m=\u001b[0m \u001b[0mnp\u001b[0m\u001b[1;33m.\u001b[0m\u001b[0marray\u001b[0m\u001b[1;33m(\u001b[0m\u001b[1;33m[\u001b[0m\u001b[1;33m[\u001b[0m\u001b[1;36m2\u001b[0m\u001b[1;33m,\u001b[0m \u001b[1;36m4\u001b[0m\u001b[1;33m,\u001b[0m \u001b[1;36m10\u001b[0m\u001b[1;33m,\u001b[0m \u001b[1;36m12\u001b[0m\u001b[1;33m,\u001b[0m \u001b[1;36m3\u001b[0m\u001b[1;33m,\u001b[0m \u001b[1;36m7\u001b[0m\u001b[1;33m]\u001b[0m\u001b[1;33m,\u001b[0m \u001b[1;33m[\u001b[0m\u001b[1;36m20\u001b[0m\u001b[1;33m,\u001b[0m \u001b[1;36m40\u001b[0m\u001b[1;33m,\u001b[0m \u001b[1;36m100\u001b[0m\u001b[1;33m,\u001b[0m \u001b[1;36m120\u001b[0m\u001b[1;33m,\u001b[0m \u001b[1;36m150\u001b[0m\u001b[1;33m,\u001b[0m \u001b[1;36m155\u001b[0m\u001b[1;33m]\u001b[0m\u001b[1;33m]\u001b[0m\u001b[1;33m)\u001b[0m\u001b[1;33m\u001b[0m\u001b[0m\n\u001b[0;32m     12\u001b[0m \u001b[1;33m\u001b[0m\u001b[0m\n\u001b[1;32m---> 13\u001b[1;33m \u001b[0mgray_to_rgb\u001b[0m\u001b[1;33m(\u001b[0m\u001b[0mimage\u001b[0m\u001b[1;33m)\u001b[0m\u001b[1;33m\u001b[0m\u001b[0m\n\u001b[0m",
      "\u001b[1;31mNameError\u001b[0m: name 'gray_to_rgb' is not defined"
     ]
    }
   ],
   "source": [
    "# testing changing grey to rgb values\n",
    "image = np.array([[ [2, 0, 5],\n",
    "                [4, 0, 5],\n",
    "                [10, 1, 6],\n",
    "                [12, 3, 7]],\n",
    "\n",
    "               [[20, 4, 7],\n",
    "                [40, 5, 8],\n",
    "                [100, 5, 9],\n",
    "                [120, 6, 10]]])\n",
    "image = np.array([[2, 4, 10, 12, 3, 7], [20, 40, 100, 120, 150, 155]])\n",
    "\n",
    "gray_to_rgb(image)"
   ]
  },
  {
   "cell_type": "code",
   "execution_count": null,
   "metadata": {},
   "outputs": [],
   "source": [
    "# testing imread and imshow\n",
    "\n",
    "path = \"20_categories_training\\\\bear\"\n",
    "filename = os.path.join(path, 'bear_0001.jpg')\n",
    "print(filename)\n",
    "dog = io.imread(filename)\n",
    "skimage.io.imshow(dog)"
   ]
  },
  {
   "cell_type": "code",
   "execution_count": null,
   "metadata": {},
   "outputs": [],
   "source": [
    "# testing regex\n",
    "file = '_bear_0001.jpg'\n",
    "test = re.findall(r'^[_.]', file)\n",
    "if test:\n",
    "    print(\"YES\")\n",
    "else:\n",
    "    print(\"NO\")"
   ]
  },
  {
   "cell_type": "code",
   "execution_count": null,
   "metadata": {},
   "outputs": [],
   "source": []
  }
 ],
 "metadata": {
  "kernelspec": {
   "display_name": "Python 3",
   "language": "python",
   "name": "python3"
  },
  "language_info": {
   "codemirror_mode": {
    "name": "ipython",
    "version": 3
   },
   "file_extension": ".py",
   "mimetype": "text/x-python",
   "name": "python",
   "nbconvert_exporter": "python",
   "pygments_lexer": "ipython3",
   "version": "3.6.5"
  }
 },
 "nbformat": 4,
 "nbformat_minor": 2
}
