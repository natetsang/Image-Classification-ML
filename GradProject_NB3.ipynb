{
 "cells": [
  {
   "cell_type": "markdown",
   "metadata": {},
   "source": [
    "\n",
    "<h1> DS200A Computer Vision Assignment</h1>"
   ]
  },
  {
   "cell_type": "markdown",
   "metadata": {},
   "source": [
    "### Libraries"
   ]
  },
  {
   "cell_type": "code",
   "execution_count": 16,
   "metadata": {},
   "outputs": [],
   "source": [
    "import os\n",
    "import numpy as np \n",
    "import pandas as pd \n",
    "import matplotlib.pyplot as plt\n",
    "from pathlib import Path\n",
    "from sklearn import metrics\n",
    "from sklearn.model_selection import train_test_split\n",
    "from sklearn.svm import SVC\n",
    "from sklearn.ensemble import RandomForestClassifier, ExtraTreesClassifier\n",
    "from sklearn.neighbors import KNeighborsClassifier\n",
    "from sklearn.linear_model import LogisticRegression\n",
    "from sklearn.preprocessing import StandardScaler\n",
    "from sklearn.model_selection import GridSearchCV\n",
    "from sklearn.utils import resample\n",
    "import re"
   ]
  },
  {
   "cell_type": "markdown",
   "metadata": {},
   "source": [
    "<h2>  Part Three: Training Models </h2>\t\n",
    "\n",
    "### Steps followed to create useful classifier model that generalize \n",
    "\n",
    "* Load cleaned, standardized and featurized image data\n",
    "* Split image data into training and validation sets (90%, 10%) \n",
    "* Use training data only when designing, training, and tuning model \n",
    "    * Use cross validation to test generalization on validation data and avoid overfit\n",
    "    * Use hyperparameter tuning (GridCV) to find optimal parameters\n",
    "* Compare performance of classifiers (LR, RF, KNN, SVM) and pick  final model with highest accuracy  \n",
    "* Commit to final model and train once more using only full training data \n",
    "* Test final model using the unlabelled test data "
   ]
  },
  {
   "cell_type": "markdown",
   "metadata": {},
   "source": [
    "###  About this notebook:\n",
    "Using the features from `GradProject_NB3.ipynb`, this notebook runs Logistic Regression, K-nearest Neighbors, Random Forest, and Support Vector Machine models. It then produces a CSV file of predictions on the Test Data.\n",
    "\n",
    "\n",
    "---"
   ]
  },
  {
   "cell_type": "code",
   "execution_count": 2,
   "metadata": {},
   "outputs": [
    {
     "name": "stdout",
     "output_type": "stream",
     "text": [
      "Success: 1501 train images loaded into dataframe\n",
      "Success: 716 test images loaded into dataframe\n"
     ]
    }
   ],
   "source": [
    "def extract_train_test_files():\n",
    "    \"\"\"\n",
    "    Extracts train/test .pkl files from folder and converts them to dataframes.\n",
    "    \n",
    "    Keyword arguments:\n",
    "    None\n",
    "    \n",
    "    Returns:\n",
    "    train_df (pandas dataframe) -- dataframe of training data\n",
    "    test_df (pandas dataframe) -- dataframe of test data\n",
    "    \"\"\"\n",
    "    train_df, test_df = pd.DataFrame(), pd.DataFrame()\n",
    "    training_path = 'features_train.pkl'\n",
    "    test_path = 'features_test.pkl'\n",
    "    \n",
    "    if Path(training_path).is_file():\n",
    "        train_df = pd.read_pickle(training_path)\n",
    "        print(f\"Success: {len(train_df)} train images loaded into dataframe\")\n",
    "    \n",
    "    if Path(test_path).is_file():\n",
    "        test_df = pd.read_pickle(test_path)\n",
    "        print(f\"Success: {len(test_df)} test images loaded into dataframe\")\n",
    "        \n",
    "    return train_df, test_df\n",
    "\n",
    "train_df, test_df = extract_train_test_files()"
   ]
  },
  {
   "cell_type": "markdown",
   "metadata": {},
   "source": [
    "### Prepare data for modeling\n",
    "\n",
    "Exploratory work used for best Feature Subset Selection"
   ]
  },
  {
   "cell_type": "code",
   "execution_count": 3,
   "metadata": {},
   "outputs": [
    {
     "name": "stdout",
     "output_type": "stream",
     "text": [
      "Preparing training and validation data sets...\n",
      "Importance of standardized X features: \n"
     ]
    },
    {
     "name": "stderr",
     "output_type": "stream",
     "text": [
      "C:\\Users\\natek\\Anaconda3\\envs\\data-x\\lib\\site-packages\\sklearn\\preprocessing\\data.py:625: DataConversionWarning: Data with input dtype int32, float64 were all converted to float64 by StandardScaler.\n",
      "  return self.partial_fit(X, y)\n",
      "C:\\Users\\natek\\Anaconda3\\envs\\data-x\\lib\\site-packages\\sklearn\\base.py:462: DataConversionWarning: Data with input dtype int32, float64 were all converted to float64 by StandardScaler.\n",
      "  return self.fit(X, **fit_params).transform(X)\n"
     ]
    },
    {
     "name": "stdout",
     "output_type": "stream",
     "text": [
      "[0.06722953 0.05391573 0.08327148 0.04828343 0.05654781 0.05566502\n",
      " 0.04858124 0.05391068 0.04731218 0.04996328 0.05449387 0.05071527\n",
      " 0.04893639 0.04918955 0.07891659 0.04466358 0.04782885 0.06057552]\n",
      "Top 10 best features: [ 2 14  0 17  4  5 10  1  7 11]\n"
     ]
    },
    {
     "data": {
      "text/plain": [
       "['ft2', 'ft14', 'ft0', 'ft17', 'ft4', 'ft5', 'ft10', 'ft1', 'ft7', 'ft11']"
      ]
     },
     "execution_count": 3,
     "metadata": {},
     "output_type": "execute_result"
    }
   ],
   "source": [
    "def find_best_features(n_best_features = 10, useAllFeatures=False): \n",
    "    \"\"\"\n",
    "    Find the most important features used for feature subset selection.\n",
    "    Use ensemble of decision trees to find best features for category prediction.\n",
    "    Displays the relative importance of each feature. \n",
    "    \n",
    "    Returns: \n",
    "        Array if best feature indices \n",
    "    \"\"\"\n",
    "    all_features = [f'ft{i}' for i in range(0, 18)]\n",
    "    if useAllFeatures: \n",
    "        return all_features\n",
    "        \n",
    "    print(\"Preparing training and validation data sets...\")\n",
    "    X = train_df[all_features]\n",
    "    y = train_df['encoding']\n",
    "    X_train, X_val, y_train, y_val = train_test_split(X, \n",
    "                                                      y, \n",
    "                                                      test_size=0.1, \n",
    "                                                      random_state=42)\n",
    "\n",
    "    standard_X = StandardScaler().fit_transform(X_train) \n",
    "    model = ExtraTreesClassifier(n_estimators=100, random_state=42)\n",
    "\n",
    "    print(f\"Importance of standardized X features: \")\n",
    "    model.fit(standard_X, y_train)\n",
    "    print(model.feature_importances_)\n",
    "    important_features = model.feature_importances_\n",
    "    best_features = important_features.argsort()[-n_best_features:][::-1]\n",
    "    print(f\"Top {n_best_features} best features: {best_features}\")\n",
    "    best_features = [ f'ft{i}' for i in best_features] \n",
    "    return best_features\n",
    "\n",
    "features = find_best_features(n_best_features=10, useAllFeatures=False)\n",
    "features"
   ]
  },
  {
   "cell_type": "markdown",
   "metadata": {},
   "source": [
    "####  Split cleaned and standardized images into training and validation data set"
   ]
  },
  {
   "cell_type": "code",
   "execution_count": 4,
   "metadata": {
    "scrolled": true
   },
   "outputs": [
    {
     "name": "stdout",
     "output_type": "stream",
     "text": [
      "Preparing training and validation data sets...\n",
      ">> X_train and X_val standardized \n",
      "\n",
      "Preparing test set...\n",
      ">> X_test standardized\n",
      "\n",
      ">> READY FOR MODELING <<\n"
     ]
    },
    {
     "name": "stderr",
     "output_type": "stream",
     "text": [
      "C:\\Users\\natek\\Anaconda3\\envs\\data-x\\lib\\site-packages\\sklearn\\preprocessing\\data.py:625: DataConversionWarning: Data with input dtype int32, float64 were all converted to float64 by StandardScaler.\n",
      "  return self.partial_fit(X, y)\n",
      "C:\\Users\\natek\\Anaconda3\\envs\\data-x\\lib\\site-packages\\sklearn\\base.py:462: DataConversionWarning: Data with input dtype int32, float64 were all converted to float64 by StandardScaler.\n",
      "  return self.fit(X, **fit_params).transform(X)\n",
      "C:\\Users\\natek\\Anaconda3\\envs\\data-x\\lib\\site-packages\\ipykernel_launcher.py:9: DataConversionWarning: Data with input dtype int32, float64 were all converted to float64 by StandardScaler.\n",
      "  if __name__ == '__main__':\n",
      "C:\\Users\\natek\\Anaconda3\\envs\\data-x\\lib\\site-packages\\sklearn\\preprocessing\\data.py:625: DataConversionWarning: Data with input dtype int32, float64 were all converted to float64 by StandardScaler.\n",
      "  return self.partial_fit(X, y)\n",
      "C:\\Users\\natek\\Anaconda3\\envs\\data-x\\lib\\site-packages\\sklearn\\base.py:462: DataConversionWarning: Data with input dtype int32, float64 were all converted to float64 by StandardScaler.\n",
      "  return self.fit(X, **fit_params).transform(X)\n"
     ]
    }
   ],
   "source": [
    "print(\"Preparing training and validation data sets...\")\n",
    "X = train_df[features]\n",
    "y = train_df['encoding']\n",
    "X_train, X_val, y_train, y_val = train_test_split(X, y, test_size=0.1, random_state=42)\n",
    "\n",
    "# Standardize training and validation data sets\n",
    "scaler = StandardScaler()\n",
    "X_train = scaler.fit_transform(X_train)\n",
    "X_val = scaler.transform(X_val)\n",
    "print(\">> X_train and X_val standardized \\n\")\n",
    "\n",
    "# Prepare test set for modeling by selecting features and standardize\n",
    "print(\"Preparing test set...\")\n",
    "scaler = StandardScaler()\n",
    "X_test = test_df[features]\n",
    "X_test = scaler.fit_transform(X_test)\n",
    "print(\">> X_test standardized\")\n",
    "print(\"\\n>> READY FOR MODELING <<\")"
   ]
  },
  {
   "cell_type": "markdown",
   "metadata": {},
   "source": [
    "---\n",
    "### Define helper functions: \n",
    "1) hyperparameter selection via cross-validation\n",
    "\n",
    "2) model creation and validation results\n",
    "\n",
    "3) confidence intervals of val results using bootstrapping"
   ]
  },
  {
   "cell_type": "code",
   "execution_count": 5,
   "metadata": {},
   "outputs": [],
   "source": [
    "def CV_with_GridSearch(estimator, h_parameters, cv):\n",
    "    \"\"\"\n",
    "    Finds optimal hyperparameters for given model using GridSearchCV.\n",
    "    \n",
    "    Keyword arguments:\n",
    "    estimator (sklearn model) -- instantiated ML model (e.g. SVC())\n",
    "    h_parameters (list of dicts) -- hyperparameters to test\n",
    "                                        e.g [{'multi_class': ['ovr'],\n",
    "                                              'C': [0.01, 0.1, 1]},\n",
    "    cv (int) -- number of folds to use in cross validation\n",
    "    \n",
    "    Returns:\n",
    "        dict of most optimal parameters based on CV\n",
    "    \"\"\"\n",
    "    # scoring is \"accuracy\" by default\n",
    "    clf = GridSearchCV(estimator, h_parameters, cv=3) \n",
    "    clf.fit(X_train, y_train)\n",
    "    \n",
    "    best_params = clf.best_params_\n",
    "    print(\"Best parameters set found on development set:\\n\")\n",
    "    print(best_params)\n",
    "    print(\"\\nGrid scores on training set:\\n\")\n",
    "\n",
    "    means = clf.cv_results_['mean_test_score']\n",
    "    stds = clf.cv_results_['std_test_score']\n",
    "    for mean, std, params in zip(means, stds, clf.cv_results_['params']):\n",
    "        print(\"%0.3f (+/-%0.03f) for %r\"\n",
    "              % (mean, std * 2, params))\n",
    "        \n",
    "    return best_params"
   ]
  },
  {
   "cell_type": "code",
   "execution_count": 6,
   "metadata": {},
   "outputs": [],
   "source": [
    "def estimate_model_results(final_estimator, bootstrap_results=False):\n",
    "    \"\"\"\n",
    "    Calculates train/val accuracy and the validation accuracy's\n",
    "    upper/lower bounds using bootstrapping.\n",
    "    \n",
    "    Keyword arguments:\n",
    "    final_estimator (sklearn model) -- instantiated ML model (e.g. SVC())\n",
    "    bootstrap_results (boolean) -- bootstraps validation accuracy results\n",
    "    \n",
    "    Returns:\n",
    "        final_estimator (sklearn model) -- trained ML model\n",
    "        acc_val (float) -- validation accuracy\n",
    "        acc_bounds (list) -- confidence intervals for validation accuracy\n",
    "    \"\"\"\n",
    "    final_estimator.fit(X_train, y_train)                        \n",
    "    acc_train = final_estimator.score(X_train, y_train)\n",
    "    y_pred = final_estimator.predict(X_val)\n",
    "    acc_val = final_estimator.score(X_val, y_val)   \n",
    "    \n",
    "    confusion_matrix = metrics.confusion_matrix(y_val, y_pred)\n",
    "    \n",
    "    print('Train labeling accuracy:', str(round(acc_train*100,2)),'%')\n",
    "    print('Val labeling accuracy:', str(round(acc_val*100,2)),'%')\n",
    "    print('\\nConfusion matrix:\\n', confusion_matrix)\n",
    "    if bootstrap_results:\n",
    "        acc_bounds = bootstrap_metrics(1000, 0.95, final_estimator, X_val, y_val)\n",
    "    \n",
    "    return final_estimator, round(acc_val,2), acc_bounds"
   ]
  },
  {
   "cell_type": "code",
   "execution_count": 7,
   "metadata": {},
   "outputs": [],
   "source": [
    "def bootstrap_metrics(num_iterations, alpha, model, X_val, y_val):\n",
    "    \"\"\"\n",
    "    Calculates upper/lower bounds of accuracy using bootstrapping\n",
    "    \n",
    "    Keyword arguments:\n",
    "    num_iterations (int) -- number of times to run bootstrap\n",
    "    alpha (float) -- confidence interval (e.g. 0.95 means \"95% confidence\")\n",
    "    model (sklearn model) -- pre trained model ready to predict\n",
    "    X_val (pandas dataframe or ndarray) -- Validation data \n",
    "    y_val (pandas dataframe/series or ndarray) -- Validation classes\n",
    "    \n",
    "    Returns:\n",
    "        list containing accuracy CI bounds using bootstrapping\n",
    "    \"\"\"\n",
    "    bootstrapped_accuracy = []\n",
    "    X_val = pd.DataFrame(X_val, columns=features)\n",
    "    y_val = pd.DataFrame(y_val).reset_index()\n",
    "    val_set = X_val.join(y_val, how = \"outer\")\n",
    "    \n",
    "    for i in range(num_iterations):\n",
    "        val_sample = resample(val_set, n_samples=len(val_set))\n",
    "        X_sample = val_sample[features]\n",
    "        y_sample = val_sample['encoding']\n",
    "    \n",
    "        # Calculate accuracy\n",
    "        y_pred_sample = model.predict(X_sample)        \n",
    "        accuracy = model.score(X_sample, y_sample)\n",
    "        \n",
    "        # Store scores in list\n",
    "        bootstrapped_accuracy.append(accuracy)\n",
    "    \n",
    "    q_lower = ((1-alpha)/2) * 100\n",
    "    q_upper = (alpha + ((1-alpha)/2)) * 100\n",
    "    \n",
    "    # Accuracy bounds\n",
    "    acc_lower = round(max(0, np.percentile(bootstrapped_accuracy, q_lower)),2)\n",
    "    acc_upper = round(min(1, np.percentile(bootstrapped_accuracy, q_upper)),2)\n",
    "    print(f'\\n{alpha*100}% ACCURACY confidence interval {acc_lower} and {acc_upper}')\n",
    "\n",
    "    acc_bounds = [acc_lower, acc_upper]\n",
    "    \n",
    "    plot_bootstrap_results(bootstrapped_accuracy)\n",
    "    \n",
    "    return acc_bounds"
   ]
  },
  {
   "cell_type": "code",
   "execution_count": 8,
   "metadata": {},
   "outputs": [],
   "source": [
    "def plot_bootstrap_results(bootstrapped_accuracy):\n",
    "    \"\"\"\n",
    "    Calculates upper/lower bounds of accuracy using bootstrapping\n",
    "    \n",
    "    Keyword arguments:\n",
    "    num_iterations (int) -- number of times to run bootstrap\n",
    "    alpha (float) -- confidence interval (e.g. 0.95 means \"95% confidence\")\n",
    "    model (sklearn model) -- pre trained model ready to predict\n",
    "    X_val (pandas dataframe or ndarray) -- Validation data \n",
    "    y_val (pandas dataframe/series or ndarray) -- Validation classes\n",
    "    \n",
    "    Returns:\n",
    "        None\n",
    "    \"\"\"\n",
    "    plt.figure(figsize=(4,4))\n",
    "    plt.hist(bootstrapped_accuracy)\n",
    "    plt.title(\"Bootstrap CI for accuracy\", fontsize=12)\n",
    "    plt.xlabel(\"Accuracy\", fontsize=12)\n",
    "    plt.ylabel(\"Count\", fontsize=12)\n",
    "    plt.show() "
   ]
  },
  {
   "cell_type": "markdown",
   "metadata": {},
   "source": [
    "---\n",
    "<h3>  Train models using following steps: </h3>  \n",
    "1. Define a model type (e.g. logistic regression, KNN, etc)\n",
    "2. Identify hyperparameters to test using cross validation\n",
    "3. Find best hyperparameters using `CV_with_GridSearch` function\n",
    "4. Instantiate model using optimal hyperparameters found in step 3\n",
    "5. Fit model and calculate model accuracy on train and test data using `estimate_model_results` function. If interested, bootstrap accuracy confidence intervals by setting `boostrap_results=True`\n",
    "6. Take note of the differences in accuracy, and methods."
   ]
  },
  {
   "cell_type": "markdown",
   "metadata": {},
   "source": [
    "#### Logistic Regression"
   ]
  },
  {
   "cell_type": "code",
   "execution_count": 9,
   "metadata": {
    "scrolled": false
   },
   "outputs": [
    {
     "name": "stderr",
     "output_type": "stream",
     "text": [
      "C:\\Users\\natek\\Anaconda3\\envs\\data-x\\lib\\site-packages\\sklearn\\linear_model\\logistic.py:433: FutureWarning: Default solver will be changed to 'lbfgs' in 0.22. Specify a solver to silence this warning.\n",
      "  FutureWarning)\n",
      "C:\\Users\\natek\\Anaconda3\\envs\\data-x\\lib\\site-packages\\sklearn\\linear_model\\logistic.py:433: FutureWarning: Default solver will be changed to 'lbfgs' in 0.22. Specify a solver to silence this warning.\n",
      "  FutureWarning)\n",
      "C:\\Users\\natek\\Anaconda3\\envs\\data-x\\lib\\site-packages\\sklearn\\linear_model\\logistic.py:433: FutureWarning: Default solver will be changed to 'lbfgs' in 0.22. Specify a solver to silence this warning.\n",
      "  FutureWarning)\n",
      "C:\\Users\\natek\\Anaconda3\\envs\\data-x\\lib\\site-packages\\sklearn\\linear_model\\logistic.py:433: FutureWarning: Default solver will be changed to 'lbfgs' in 0.22. Specify a solver to silence this warning.\n",
      "  FutureWarning)\n",
      "C:\\Users\\natek\\Anaconda3\\envs\\data-x\\lib\\site-packages\\sklearn\\linear_model\\logistic.py:433: FutureWarning: Default solver will be changed to 'lbfgs' in 0.22. Specify a solver to silence this warning.\n",
      "  FutureWarning)\n",
      "C:\\Users\\natek\\Anaconda3\\envs\\data-x\\lib\\site-packages\\sklearn\\linear_model\\logistic.py:433: FutureWarning: Default solver will be changed to 'lbfgs' in 0.22. Specify a solver to silence this warning.\n",
      "  FutureWarning)\n",
      "C:\\Users\\natek\\Anaconda3\\envs\\data-x\\lib\\site-packages\\sklearn\\linear_model\\logistic.py:433: FutureWarning: Default solver will be changed to 'lbfgs' in 0.22. Specify a solver to silence this warning.\n",
      "  FutureWarning)\n",
      "C:\\Users\\natek\\Anaconda3\\envs\\data-x\\lib\\site-packages\\sklearn\\linear_model\\logistic.py:433: FutureWarning: Default solver will be changed to 'lbfgs' in 0.22. Specify a solver to silence this warning.\n",
      "  FutureWarning)\n",
      "C:\\Users\\natek\\Anaconda3\\envs\\data-x\\lib\\site-packages\\sklearn\\linear_model\\logistic.py:433: FutureWarning: Default solver will be changed to 'lbfgs' in 0.22. Specify a solver to silence this warning.\n",
      "  FutureWarning)\n",
      "C:\\Users\\natek\\Anaconda3\\envs\\data-x\\lib\\site-packages\\sklearn\\linear_model\\logistic.py:433: FutureWarning: Default solver will be changed to 'lbfgs' in 0.22. Specify a solver to silence this warning.\n",
      "  FutureWarning)\n",
      "C:\\Users\\natek\\Anaconda3\\envs\\data-x\\lib\\site-packages\\sklearn\\linear_model\\logistic.py:433: FutureWarning: Default solver will be changed to 'lbfgs' in 0.22. Specify a solver to silence this warning.\n",
      "  FutureWarning)\n",
      "C:\\Users\\natek\\Anaconda3\\envs\\data-x\\lib\\site-packages\\sklearn\\linear_model\\logistic.py:433: FutureWarning: Default solver will be changed to 'lbfgs' in 0.22. Specify a solver to silence this warning.\n",
      "  FutureWarning)\n",
      "C:\\Users\\natek\\Anaconda3\\envs\\data-x\\lib\\site-packages\\sklearn\\linear_model\\logistic.py:433: FutureWarning: Default solver will be changed to 'lbfgs' in 0.22. Specify a solver to silence this warning.\n",
      "  FutureWarning)\n",
      "C:\\Users\\natek\\Anaconda3\\envs\\data-x\\lib\\site-packages\\sklearn\\linear_model\\logistic.py:433: FutureWarning: Default solver will be changed to 'lbfgs' in 0.22. Specify a solver to silence this warning.\n",
      "  FutureWarning)\n",
      "C:\\Users\\natek\\Anaconda3\\envs\\data-x\\lib\\site-packages\\sklearn\\linear_model\\logistic.py:433: FutureWarning: Default solver will be changed to 'lbfgs' in 0.22. Specify a solver to silence this warning.\n",
      "  FutureWarning)\n",
      "C:\\Users\\natek\\Anaconda3\\envs\\data-x\\lib\\site-packages\\sklearn\\linear_model\\logistic.py:433: FutureWarning: Default solver will be changed to 'lbfgs' in 0.22. Specify a solver to silence this warning.\n",
      "  FutureWarning)\n",
      "C:\\Users\\natek\\Anaconda3\\envs\\data-x\\lib\\site-packages\\sklearn\\linear_model\\logistic.py:433: FutureWarning: Default solver will be changed to 'lbfgs' in 0.22. Specify a solver to silence this warning.\n",
      "  FutureWarning)\n",
      "C:\\Users\\natek\\Anaconda3\\envs\\data-x\\lib\\site-packages\\sklearn\\linear_model\\logistic.py:433: FutureWarning: Default solver will be changed to 'lbfgs' in 0.22. Specify a solver to silence this warning.\n",
      "  FutureWarning)\n",
      "C:\\Users\\natek\\Anaconda3\\envs\\data-x\\lib\\site-packages\\sklearn\\model_selection\\_search.py:841: DeprecationWarning: The default of the `iid` parameter will change from True to False in version 0.22 and will be removed in 0.24. This will change numeric results when test-set sizes are unequal.\n",
      "  DeprecationWarning)\n",
      "C:\\Users\\natek\\Anaconda3\\envs\\data-x\\lib\\site-packages\\sklearn\\linear_model\\logistic.py:433: FutureWarning: Default solver will be changed to 'lbfgs' in 0.22. Specify a solver to silence this warning.\n",
      "  FutureWarning)\n",
      "C:\\Users\\natek\\Anaconda3\\envs\\data-x\\lib\\site-packages\\sklearn\\linear_model\\logistic.py:433: FutureWarning: Default solver will be changed to 'lbfgs' in 0.22. Specify a solver to silence this warning.\n",
      "  FutureWarning)\n"
     ]
    },
    {
     "name": "stdout",
     "output_type": "stream",
     "text": [
      "Best parameters set found on development set:\n",
      "\n",
      "{'C': 1000, 'multi_class': 'ovr'}\n",
      "\n",
      "Grid scores on training set:\n",
      "\n",
      "0.301 (+/-0.013) for {'C': 0.01, 'multi_class': 'ovr'}\n",
      "0.335 (+/-0.037) for {'C': 0.1, 'multi_class': 'ovr'}\n",
      "0.349 (+/-0.018) for {'C': 1, 'multi_class': 'ovr'}\n",
      "0.356 (+/-0.031) for {'C': 10, 'multi_class': 'ovr'}\n",
      "0.359 (+/-0.039) for {'C': 100, 'multi_class': 'ovr'}\n",
      "0.363 (+/-0.037) for {'C': 1000, 'multi_class': 'ovr'}\n",
      "0.289 (+/-0.009) for {'C': 0.01, 'multi_class': 'multinomial', 'solver': 'newton-cg'}\n",
      "0.339 (+/-0.034) for {'C': 0.1, 'multi_class': 'multinomial', 'solver': 'newton-cg'}\n",
      "0.357 (+/-0.008) for {'C': 1, 'multi_class': 'multinomial', 'solver': 'newton-cg'}\n",
      "0.356 (+/-0.022) for {'C': 10, 'multi_class': 'multinomial', 'solver': 'newton-cg'}\n",
      "0.356 (+/-0.027) for {'C': 100, 'multi_class': 'multinomial', 'solver': 'newton-cg'}\n",
      "0.362 (+/-0.029) for {'C': 1000, 'multi_class': 'multinomial', 'solver': 'newton-cg'}\n",
      "Train labeling accuracy: 41.26 %\n",
      "Val labeling accuracy: 43.71 %\n",
      "\n",
      "Confusion matrix:\n",
      " [[12  0  0  0  0  0  0  0  0  0  0  0  0  0  0  0  0  0  0  0]\n",
      " [ 0  0  0  0  0  0  0  0  0  1  0  0  0  0  1  0  0  2  0  0]\n",
      " [ 0  0  0  0  1  0  1  0  0  0  0  0  0  0  0  0  0  0  0  0]\n",
      " [ 0  0  1  7  0  0  0  0  0  0  0  0  0  0  0  0  1  0  0  0]\n",
      " [ 0  0  0  1  1  0  0  0  0  1  1  0  1  0  1  0  0  1  0  0]\n",
      " [ 0  0  0  1  0  0  0  0  0  2  0  0  0  0  0  0  0  1  0  0]\n",
      " [ 1  0  1  0  2  0  6  0  0  1  0  1  0  0  2  0  1  0  0  0]\n",
      " [ 0  0  0  0  0  0  0  0  0  3  2  0  0  1  0  0  0  0  0  0]\n",
      " [ 0  0  0  0  0  0  0  0  0  3  0  0  0  0  1  1  0  0  0  0]\n",
      " [ 0  0  0  0  1  0  0  0  0  7  1  0  0  1  0  0  0  0  0  2]\n",
      " [ 0  1  0  1  0  0  0  0  0  2  4  0  0  0  0  0  0  0  1  0]\n",
      " [ 0  0  0  0  0  0  1  0  0  0  0  2  1  0  1  0  0  0  0  1]\n",
      " [ 0  0  0  0  0  0  0  0  0  0  0  0 10  0  0  0  0  0  0  0]\n",
      " [ 0  0  0  0  0  0  0  0  0  5  2  0  0  1  0  0  1  0  0  1]\n",
      " [ 0  0  0  0  0  0  0  0  0  2  0  0  1  0  4  0  1  2  0  0]\n",
      " [ 0  0  0  0  0  0  0  0  0  1  1  0  1  0  1  0  0  0  0  2]\n",
      " [ 0  0  0  0  1  0  0  0  0  1  1  0  0  0  0  0  3  0  0  0]\n",
      " [ 1  0  0  0  0  0  0  0  0  0  0  0  0  0  0  0  1  0  0  0]\n",
      " [ 0  0  0  0  0  0  1  0  0  2  0  0  0  0  0  0  1  0  4  0]\n",
      " [ 0  0  0  0  0  0  0  0  1  1  0  0  0  0  1  0  0  0  0  5]]\n",
      "\n",
      "95.0% ACCURACY confidence interval 0.36 and 0.52\n"
     ]
    },
    {
     "data": {
      "image/png": "[encoded data removed]",
      "text/plain": [
       "<Figure size 288x288 with 1 Axes>"
      ]
     },
     "metadata": {
      "needs_background": "light"
     },
     "output_type": "display_data"
    }
   ],
   "source": [
    "# Step 1: Model \n",
    "log_reg_estimator = LogisticRegression(random_state=10)\n",
    "\n",
    "# Step 2: Identify Hyperparameters \n",
    "hyper_parameters = [{'multi_class': ['ovr'],\n",
    "                     'C': [0.01, 0.1, 1, 10, 100, 1000]},\n",
    "                    {'multi_class': ['multinomial'],\n",
    "                     'C': [0.01, 0.1, 1, 10, 100, 1000],                \n",
    "                     'solver': ['newton-cg']}]\n",
    "\n",
    "# Step 3: Find Best Hyperparameters via CV GridSearch\n",
    "best_params = CV_with_GridSearch(log_reg_estimator, \n",
    "                                 hyper_parameters, \n",
    "                                 cv=10)\n",
    "\n",
    "# Step 4: Fit Model via Best Hyperparameters \n",
    "log_reg_classifier = LogisticRegression(random_state=10, \n",
    "                                        C=1000, \n",
    "                                        multi_class='ovr')\n",
    "\n",
    "# Step 5: Evaluate model accuracy and confidence interval \n",
    "log_reg_classifier, validation_accuracy_log_reg, confidence_interval_log_reg = ( \n",
    "    estimate_model_results(log_reg_classifier, bootstrap_results=True) )"
   ]
  },
  {
   "cell_type": "markdown",
   "metadata": {},
   "source": [
    "#### K-Nearest neighbors"
   ]
  },
  {
   "cell_type": "code",
   "execution_count": 10,
   "metadata": {
    "scrolled": true
   },
   "outputs": [
    {
     "name": "stderr",
     "output_type": "stream",
     "text": [
      "C:\\Users\\natek\\Anaconda3\\envs\\data-x\\lib\\site-packages\\sklearn\\model_selection\\_search.py:841: DeprecationWarning: The default of the `iid` parameter will change from True to False in version 0.22 and will be removed in 0.24. This will change numeric results when test-set sizes are unequal.\n",
      "  DeprecationWarning)\n"
     ]
    },
    {
     "name": "stdout",
     "output_type": "stream",
     "text": [
      "Best parameters set found on development set:\n",
      "\n",
      "{'n_neighbors': 24}\n",
      "\n",
      "Grid scores on training set:\n",
      "\n",
      "0.278 (+/-0.014) for {'n_neighbors': 1}\n",
      "0.257 (+/-0.024) for {'n_neighbors': 2}\n",
      "0.276 (+/-0.010) for {'n_neighbors': 3}\n",
      "0.287 (+/-0.011) for {'n_neighbors': 4}\n",
      "0.293 (+/-0.011) for {'n_neighbors': 5}\n",
      "0.290 (+/-0.021) for {'n_neighbors': 6}\n",
      "0.304 (+/-0.006) for {'n_neighbors': 7}\n",
      "0.310 (+/-0.022) for {'n_neighbors': 8}\n",
      "0.310 (+/-0.019) for {'n_neighbors': 9}\n",
      "0.306 (+/-0.015) for {'n_neighbors': 10}\n",
      "0.312 (+/-0.013) for {'n_neighbors': 11}\n",
      "0.310 (+/-0.008) for {'n_neighbors': 12}\n",
      "0.309 (+/-0.007) for {'n_neighbors': 13}\n",
      "0.310 (+/-0.014) for {'n_neighbors': 14}\n",
      "0.313 (+/-0.026) for {'n_neighbors': 15}\n",
      "0.315 (+/-0.034) for {'n_neighbors': 16}\n",
      "0.319 (+/-0.027) for {'n_neighbors': 17}\n",
      "0.327 (+/-0.015) for {'n_neighbors': 18}\n",
      "0.327 (+/-0.017) for {'n_neighbors': 19}\n",
      "0.330 (+/-0.019) for {'n_neighbors': 20}\n",
      "0.328 (+/-0.015) for {'n_neighbors': 21}\n",
      "0.330 (+/-0.013) for {'n_neighbors': 22}\n",
      "0.330 (+/-0.014) for {'n_neighbors': 23}\n",
      "0.333 (+/-0.006) for {'n_neighbors': 24}\n",
      "0.330 (+/-0.025) for {'n_neighbors': 25}\n",
      "0.323 (+/-0.019) for {'n_neighbors': 26}\n",
      "0.324 (+/-0.018) for {'n_neighbors': 27}\n",
      "0.324 (+/-0.013) for {'n_neighbors': 28}\n",
      "0.323 (+/-0.019) for {'n_neighbors': 29}\n",
      "0.321 (+/-0.022) for {'n_neighbors': 30}\n",
      "0.329 (+/-0.028) for {'n_neighbors': 31}\n",
      "0.328 (+/-0.025) for {'n_neighbors': 32}\n",
      "0.329 (+/-0.030) for {'n_neighbors': 33}\n",
      "0.327 (+/-0.031) for {'n_neighbors': 34}\n",
      "0.325 (+/-0.032) for {'n_neighbors': 35}\n",
      "0.322 (+/-0.024) for {'n_neighbors': 36}\n",
      "0.322 (+/-0.024) for {'n_neighbors': 37}\n",
      "0.321 (+/-0.019) for {'n_neighbors': 38}\n",
      "0.325 (+/-0.022) for {'n_neighbors': 39}\n",
      "0.324 (+/-0.031) for {'n_neighbors': 40}\n",
      "0.324 (+/-0.030) for {'n_neighbors': 41}\n",
      "0.322 (+/-0.030) for {'n_neighbors': 42}\n",
      "0.319 (+/-0.029) for {'n_neighbors': 43}\n",
      "0.313 (+/-0.017) for {'n_neighbors': 44}\n",
      "0.312 (+/-0.021) for {'n_neighbors': 45}\n",
      "0.319 (+/-0.016) for {'n_neighbors': 46}\n",
      "0.318 (+/-0.023) for {'n_neighbors': 47}\n",
      "0.319 (+/-0.021) for {'n_neighbors': 48}\n",
      "0.320 (+/-0.022) for {'n_neighbors': 49}\n",
      "Train labeling accuracy: 39.26 %\n",
      "Val labeling accuracy: 34.44 %\n",
      "\n",
      "Confusion matrix:\n",
      " [[12  0  0  0  0  0  0  0  0  0  0  0  0  0  0  0  0  0  0  0]\n",
      " [ 0  0  0  0  0  1  0  0  0  1  0  0  0  1  1  0  0  0  0  0]\n",
      " [ 0  0  0  0  0  0  0  0  0  1  0  0  1  0  0  0  0  0  0  0]\n",
      " [ 0  0  0  6  0  0  1  0  0  0  0  0  2  0  0  0  0  0  0  0]\n",
      " [ 0  0  0  0  1  0  0  0  1  2  0  0  1  0  0  1  0  1  0  0]\n",
      " [ 0  0  0  0  0  0  0  0  0  3  0  0  1  0  0  0  0  0  0  0]\n",
      " [ 1  0  1  0  0  0  6  0  0  1  0  2  2  0  1  0  0  1  0  0]\n",
      " [ 0  1  0  0  1  0  0  1  0  1  1  0  0  0  0  1  0  0  0  0]\n",
      " [ 0  0  0  0  0  0  0  0  0  5  0  0  0  0  0  0  0  0  0  0]\n",
      " [ 0  0  0  0  0  2  0  1  0  5  2  0  0  1  0  0  0  0  0  1]\n",
      " [ 0  1  0  0  0  0  0  0  0  2  2  0  1  1  0  1  1  0  0  0]\n",
      " [ 0  0  0  0  0  0  2  0  0  1  0  1  1  0  0  1  0  0  0  0]\n",
      " [ 0  0  0  0  0  0  0  0  0  0  0  0 10  0  0  0  0  0  0  0]\n",
      " [ 0  0  0  0  0  0  0  0  1  5  0  0  0  2  0  0  1  0  0  1]\n",
      " [ 0  0  2  0  0  0  0  0  1  4  0  0  0  0  2  0  0  0  1  0]\n",
      " [ 0  0  0  0  0  1  0  0  0  1  0  0  0  1  0  0  0  0  0  3]\n",
      " [ 0  1  0  0  0  0  0  0  0  0  0  0  0  1  2  0  2  0  0  0]\n",
      " [ 1  0  0  0  0  0  0  0  0  0  0  0  0  0  0  0  0  1  0  0]\n",
      " [ 0  0  0  0  0  1  0  0  0  4  0  1  0  0  0  0  0  2  0  0]\n",
      " [ 0  0  1  0  1  0  0  0  0  2  0  0  0  0  1  2  0  0  0  1]]\n",
      "\n",
      "95.0% ACCURACY confidence interval 0.27 and 0.42\n"
     ]
    },
    {
     "data": {
      "image/png": "[encoded data removed]",
      "text/plain": [
       "<Figure size 288x288 with 1 Axes>"
      ]
     },
     "metadata": {
      "needs_background": "light"
     },
     "output_type": "display_data"
    }
   ],
   "source": [
    "# Step 1: Model \n",
    "knn_estimator = KNeighborsClassifier()\n",
    "\n",
    "# Step 2: Identify Hyperparameters \n",
    "hyper_parameters = [{'n_neighbors': range(1,50)}]\n",
    "\n",
    "# Step 3: Find Best Hyperparameters via CV GridSearch\n",
    "best_params = CV_with_GridSearch(knn_estimator, \n",
    "                                 hyper_parameters, \n",
    "                                 cv=10)\n",
    "\n",
    "# Step 4: Fit Model via Best Hyperparameters \n",
    "knn_classifier = KNeighborsClassifier(n_neighbors=30)\n",
    "\n",
    "# Step 5: Evaluate model accuracy and confidence interval \n",
    "knn_classifier, validation_accuracy_knn, confidence_interval_knn = ( \n",
    "    estimate_model_results(knn_classifier, bootstrap_results=True) )"
   ]
  },
  {
   "cell_type": "markdown",
   "metadata": {},
   "source": [
    "#### Random Forest "
   ]
  },
  {
   "cell_type": "code",
   "execution_count": 11,
   "metadata": {
    "scrolled": true
   },
   "outputs": [
    {
     "name": "stdout",
     "output_type": "stream",
     "text": [
      "Best parameters set found on development set:\n",
      "\n",
      "{'max_features': 9}\n",
      "\n",
      "Grid scores on training set:\n",
      "\n",
      "0.361 (+/-0.042) for {'max_features': 1}\n",
      "0.360 (+/-0.027) for {'max_features': 2}\n",
      "0.366 (+/-0.017) for {'max_features': 3}\n",
      "0.365 (+/-0.006) for {'max_features': 4}\n",
      "0.361 (+/-0.037) for {'max_features': 5}\n",
      "0.363 (+/-0.016) for {'max_features': 6}\n",
      "0.365 (+/-0.022) for {'max_features': 7}\n",
      "0.368 (+/-0.020) for {'max_features': 8}\n",
      "0.370 (+/-0.026) for {'max_features': 9}\n",
      "Train labeling accuracy: 77.11 %\n",
      "Val labeling accuracy: 41.06 %\n",
      "\n",
      "Confusion matrix:\n",
      " [[12  0  0  0  0  0  0  0  0  0  0  0  0  0  0  0  0  0  0  0]\n",
      " [ 0  0  0  0  0  0  0  0  0  2  0  0  0  0  1  0  0  1  0  0]\n",
      " [ 0  0  0  1  1  0  0  0  0  0  0  0  0  0  0  0  0  0  0  0]\n",
      " [ 0  0  0  8  0  0  1  0  0  0  0  0  0  0  0  0  0  0  0  0]\n",
      " [ 0  0  0  0  0  0  0  0  0  2  0  0  0  0  0  0  2  0  1  2]\n",
      " [ 0  0  0  1  0  0  0  0  0  3  0  0  0  0  0  0  0  0  0  0]\n",
      " [ 2  0  1  1  0  0  7  0  0  1  0  0  0  1  1  0  0  1  0  0]\n",
      " [ 0  0  0  0  1  1  0  0  0  2  0  0  0  1  0  0  0  0  0  1]\n",
      " [ 0  0  0  0  0  0  0  0  0  5  0  0  0  0  0  0  0  0  0  0]\n",
      " [ 0  0  0  0  0  1  0  1  0  6  0  0  0  2  0  0  0  0  0  2]\n",
      " [ 0  1  0  1  0  0  0  0  0  2  3  0  0  1  0  0  1  0  0  0]\n",
      " [ 0  0  0  0  0  0  2  0  0  1  0  1  0  0  0  0  1  0  0  1]\n",
      " [ 0  0  0  0  0  0  0  0  0  0  0  0 10  0  0  0  0  0  0  0]\n",
      " [ 0  0  0  0  0  0  0  0  0  4  0  0  0  4  0  0  1  0  0  1]\n",
      " [ 0  0  0  1  0  0  0  0  1  3  0  0  0  0  4  0  0  1  0  0]\n",
      " [ 0  0  0  0  0  0  0  0  0  2  0  0  0  1  1  0  0  0  0  2]\n",
      " [ 0  0  0  0  0  0  0  0  0  0  1  0  0  1  1  0  3  0  0  0]\n",
      " [ 1  0  0  0  0  0  0  0  0  0  0  0  0  0  0  0  0  1  0  0]\n",
      " [ 0  0  0  0  0  0  0  0  0  2  0  1  0  0  1  0  0  1  3  0]\n",
      " [ 0  0  0  0  0  0  0  0  0  2  0  0  0  0  2  4  0  0  0  0]]\n",
      "\n",
      "95.0% ACCURACY confidence interval 0.34 and 0.49\n"
     ]
    },
    {
     "data": {
      "image/png": "[encoded data removed]",
      "text/plain": [
       "<Figure size 288x288 with 1 Axes>"
      ]
     },
     "metadata": {
      "needs_background": "light"
     },
     "output_type": "display_data"
    }
   ],
   "source": [
    "# Step 1: Model \n",
    "forest_estimator = RandomForestClassifier(n_estimators=100, \n",
    "                                          random_state=10)\n",
    "\n",
    "# Step 2: Identify Hyperparameters \n",
    "num_features = range(1, len( features ))\n",
    "hyper_parameters = [{'max_features': num_features}]\n",
    "\n",
    "# Step 3: Find Best Hyperparameters via CV GridSearch \n",
    "best_params = CV_with_GridSearch(forest_estimator, \n",
    "                                 hyper_parameters, \n",
    "                                 cv=10)\n",
    "\n",
    "# Step 4: Fit Model via Best Hyperparameters \n",
    "forest_classifier = RandomForestClassifier(n_estimators=500, \n",
    "                                           random_state=10, \n",
    "                                           max_features=6, \n",
    "                                           max_depth = 10)\n",
    "\n",
    "# Step 5: Evaluate model accuracy and confidence interval \n",
    "forest_classifier, validation_accuracy_forest, confidence_interval_forest = ( \n",
    "    estimate_model_results(forest_classifier, bootstrap_results=True) )"
   ]
  },
  {
   "cell_type": "markdown",
   "metadata": {},
   "source": [
    "#### Support Vector Machine\n",
    "\n",
    "Note that the SVM classifier generally seems to favor larger classes in 'unbalanced' multicategorical training sets. Namely, our model ended up favoring the largest class in the image data set (i.e. gorilla category) by guessing 9 on all predictions, which is probably because there are way more images of Gorillas than any other category in the training data. As a result, we chose to use Logistic Regression that is not prone to this modelling issue. "
   ]
  },
  {
   "cell_type": "code",
   "execution_count": 12,
   "metadata": {
    "scrolled": true
   },
   "outputs": [
    {
     "name": "stderr",
     "output_type": "stream",
     "text": [
      "C:\\Users\\natek\\Anaconda3\\envs\\data-x\\lib\\site-packages\\sklearn\\model_selection\\_search.py:841: DeprecationWarning: The default of the `iid` parameter will change from True to False in version 0.22 and will be removed in 0.24. This will change numeric results when test-set sizes are unequal.\n",
      "  DeprecationWarning)\n"
     ]
    },
    {
     "name": "stdout",
     "output_type": "stream",
     "text": [
      "Best parameters set found on development set:\n",
      "\n",
      "{'C': 1000, 'gamma': 0.001, 'kernel': 'rbf'}\n",
      "\n",
      "Grid scores on training set:\n",
      "\n",
      "0.096 (+/-0.003) for {'C': 1, 'gamma': 0.0001, 'kernel': 'rbf'}\n",
      "0.178 (+/-0.032) for {'C': 1, 'gamma': 0.001, 'kernel': 'rbf'}\n",
      "0.314 (+/-0.027) for {'C': 1, 'gamma': 0.01, 'kernel': 'rbf'}\n",
      "0.357 (+/-0.033) for {'C': 1, 'gamma': 0.1, 'kernel': 'rbf'}\n",
      "0.356 (+/-0.047) for {'C': 1, 'gamma': 0.2, 'kernel': 'rbf'}\n",
      "0.345 (+/-0.053) for {'C': 1, 'gamma': 0.5, 'kernel': 'rbf'}\n",
      "0.180 (+/-0.032) for {'C': 10, 'gamma': 0.0001, 'kernel': 'rbf'}\n",
      "0.311 (+/-0.020) for {'C': 10, 'gamma': 0.001, 'kernel': 'rbf'}\n",
      "0.358 (+/-0.018) for {'C': 10, 'gamma': 0.01, 'kernel': 'rbf'}\n",
      "0.350 (+/-0.033) for {'C': 10, 'gamma': 0.1, 'kernel': 'rbf'}\n",
      "0.321 (+/-0.029) for {'C': 10, 'gamma': 0.2, 'kernel': 'rbf'}\n",
      "0.301 (+/-0.029) for {'C': 10, 'gamma': 0.5, 'kernel': 'rbf'}\n",
      "0.311 (+/-0.016) for {'C': 100, 'gamma': 0.0001, 'kernel': 'rbf'}\n",
      "0.351 (+/-0.008) for {'C': 100, 'gamma': 0.001, 'kernel': 'rbf'}\n",
      "0.366 (+/-0.030) for {'C': 100, 'gamma': 0.01, 'kernel': 'rbf'}\n",
      "0.323 (+/-0.003) for {'C': 100, 'gamma': 0.1, 'kernel': 'rbf'}\n",
      "0.300 (+/-0.027) for {'C': 100, 'gamma': 0.2, 'kernel': 'rbf'}\n",
      "0.294 (+/-0.042) for {'C': 100, 'gamma': 0.5, 'kernel': 'rbf'}\n",
      "0.356 (+/-0.008) for {'C': 1000, 'gamma': 0.0001, 'kernel': 'rbf'}\n",
      "0.368 (+/-0.037) for {'C': 1000, 'gamma': 0.001, 'kernel': 'rbf'}\n",
      "0.359 (+/-0.011) for {'C': 1000, 'gamma': 0.01, 'kernel': 'rbf'}\n",
      "0.310 (+/-0.021) for {'C': 1000, 'gamma': 0.1, 'kernel': 'rbf'}\n",
      "0.296 (+/-0.021) for {'C': 1000, 'gamma': 0.2, 'kernel': 'rbf'}\n",
      "0.294 (+/-0.042) for {'C': 1000, 'gamma': 0.5, 'kernel': 'rbf'}\n",
      "0.357 (+/-0.027) for {'C': 1, 'kernel': 'linear'}\n",
      "0.364 (+/-0.024) for {'C': 10, 'kernel': 'linear'}\n",
      "0.359 (+/-0.043) for {'C': 100, 'kernel': 'linear'}\n",
      "0.356 (+/-0.044) for {'C': 1000, 'kernel': 'linear'}\n",
      "Train labeling accuracy: 45.26 %\n",
      "Val labeling accuracy: 43.71 %\n",
      "\n",
      "Confusion matrix:\n",
      " [[12  0  0  0  0  0  0  0  0  0  0  0  0  0  0  0  0  0  0  0]\n",
      " [ 0  0  0  0  1  0  0  0  0  2  0  0  0  0  1  0  0  0  0  0]\n",
      " [ 0  0  1  0  0  0  0  0  0  0  0  0  1  0  0  0  0  0  0  0]\n",
      " [ 0  0  1  8  0  0  0  0  0  0  0  0  0  0  0  0  0  0  0  0]\n",
      " [ 0  0  0  1  2  0  0  0  0  0  0  0  0  1  1  0  0  2  0  0]\n",
      " [ 0  0  0  1  0  0  0  0  0  3  0  0  0  0  0  0  0  0  0  0]\n",
      " [ 1  0  2  0  1  0  5  0  0  1  1  1  0  1  1  0  0  0  1  0]\n",
      " [ 0  0  0  0  1  1  0  0  0  0  3  1  0  0  0  0  0  0  0  0]\n",
      " [ 0  0  0  0  0  0  0  0  0  5  0  0  0  0  0  0  0  0  0  0]\n",
      " [ 0  0  1  0  0  1  0  0  0  8  1  0  0  1  0  0  0  0  0  0]\n",
      " [ 0  0  0  0  0  0  0  0  0  2  5  0  0  1  0  0  0  0  1  0]\n",
      " [ 0  0  0  0  0  0  1  0  0  0  0  2  1  0  1  1  0  0  0  0]\n",
      " [ 0  0  0  0  0  0  0  0  0  0  0  0 10  0  0  0  0  0  0  0]\n",
      " [ 0  0  1  0  0  0  0  0  0  4  2  0  0  0  0  1  1  0  1  0]\n",
      " [ 0  0  2  0  0  0  0  0  1  4  0  0  0  0  3  0  0  0  0  0]\n",
      " [ 0  0  0  0  0  1  0  0  0  1  1  0  0  1  0  0  0  0  0  2]\n",
      " [ 0  0  0  0  0  1  0  0  0  0  0  0  0  1  0  0  4  0  0  0]\n",
      " [ 1  0  0  0  0  0  0  0  0  0  0  0  0  0  0  0  0  1  0  0]\n",
      " [ 0  0  1  0  0  0  0  0  0  3  0  0  0  0  0  0  2  0  2  0]\n",
      " [ 0  0  0  0  0  0  0  1  1  1  0  0  0  0  1  1  0  0  0  3]]\n",
      "\n",
      "95.0% ACCURACY confidence interval 0.35 and 0.51\n"
     ]
    },
    {
     "data": {
      "image/png": "[encoded data removed]",
      "text/plain": [
       "<Figure size 288x288 with 1 Axes>"
      ]
     },
     "metadata": {
      "needs_background": "light"
     },
     "output_type": "display_data"
    }
   ],
   "source": [
    "# Step 1: Model \n",
    "svm_estimator = SVC(decision_function_shape='ovr')\n",
    "\n",
    "# Step 2: Identify Hyperparameters \n",
    "hyper_parameters = [{'kernel': ['rbf'],\n",
    "                     'gamma': [1e-4, 1e-3, 0.01, 0.1, 0.2, 0.5],\n",
    "                     'C': [1, 10, 100, 1000]},\n",
    "                    {'kernel': ['linear'], \n",
    "                     'C': [1, 10, 100, 1000]}]\n",
    "\n",
    "# Step 3: Find Best Hyperparameters via CV GridSearch \n",
    "best_params = CV_with_GridSearch(svm_estimator, \n",
    "                                 hyper_parameters, \n",
    "                                 cv=5)\n",
    "\n",
    "# Step 4: Fit Model via Best Hyperparameters \n",
    "svm_classifier = SVC(decision_function_shape='ovr', \n",
    "                     C=1000, \n",
    "                     gamma=0.001, \n",
    "                     kernel='rbf') \n",
    "\n",
    "# Step 5: Evaluate model accuracy and confidence interval \n",
    "svm_classifier, validation_accuracy_svm, confidence_interval_svm = ( \n",
    "    estimate_model_results(svm_classifier, bootstrap_results=True) )"
   ]
  },
  {
   "cell_type": "markdown",
   "metadata": {},
   "source": [
    "#### Model selection"
   ]
  },
  {
   "cell_type": "code",
   "execution_count": 13,
   "metadata": {},
   "outputs": [
    {
     "data": {
      "text/html": [
       "<div>\n",
       "<style scoped>\n",
       "    .dataframe tbody tr th:only-of-type {\n",
       "        vertical-align: middle;\n",
       "    }\n",
       "\n",
       "    .dataframe tbody tr th {\n",
       "        vertical-align: top;\n",
       "    }\n",
       "\n",
       "    .dataframe thead th {\n",
       "        text-align: right;\n",
       "    }\n",
       "</style>\n",
       "<table border=\"1\" class=\"dataframe\">\n",
       "  <thead>\n",
       "    <tr style=\"text-align: right;\">\n",
       "      <th></th>\n",
       "      <th>Logistic Regression</th>\n",
       "      <th>KNN</th>\n",
       "      <th>Random Forest</th>\n",
       "      <th>SVM</th>\n",
       "    </tr>\n",
       "  </thead>\n",
       "  <tbody>\n",
       "    <tr>\n",
       "      <th>Validation Accuracy</th>\n",
       "      <td>0.44</td>\n",
       "      <td>0.34</td>\n",
       "      <td>0.41</td>\n",
       "      <td>0.44</td>\n",
       "    </tr>\n",
       "    <tr>\n",
       "      <th>95% Confidence Interval</th>\n",
       "      <td>[0.36, 0.52]</td>\n",
       "      <td>[0.27, 0.42]</td>\n",
       "      <td>[0.34, 0.49]</td>\n",
       "      <td>[0.35, 0.51]</td>\n",
       "    </tr>\n",
       "  </tbody>\n",
       "</table>\n",
       "</div>"
      ],
      "text/plain": [
       "                        Logistic Regression           KNN Random Forest  \\\n",
       "Validation Accuracy                    0.44          0.34          0.41   \n",
       "95% Confidence Interval        [0.36, 0.52]  [0.27, 0.42]  [0.34, 0.49]   \n",
       "\n",
       "                                  SVM  \n",
       "Validation Accuracy              0.44  \n",
       "95% Confidence Interval  [0.35, 0.51]  "
      ]
     },
     "execution_count": 13,
     "metadata": {},
     "output_type": "execute_result"
    }
   ],
   "source": [
    "classifier_results = pd.DataFrame(index=['Validation Accuracy', \n",
    "                                         '95% Confidence Interval'])\n",
    "classifier_results['Logistic Regression'] = [validation_accuracy_log_reg, \n",
    "                                             confidence_interval_log_reg]\n",
    "classifier_results['KNN'] = [validation_accuracy_knn, \n",
    "                             confidence_interval_knn]\n",
    "classifier_results['Random Forest'] = [validation_accuracy_forest, \n",
    "                                       confidence_interval_forest]\n",
    "classifier_results['SVM'] = [validation_accuracy_svm, \n",
    "                             confidence_interval_svm]\n",
    "\n",
    "classifier_results"
   ]
  },
  {
   "cell_type": "markdown",
   "metadata": {},
   "source": [
    "---\n",
    "<h3>  Create CSV file of predictions for Test Data: </h3>"
   ]
  },
  {
   "cell_type": "code",
   "execution_count": 14,
   "metadata": {},
   "outputs": [],
   "source": [
    "from datetime import datetime\n",
    "def generate_submission(test, predictions, force=False):\n",
    "    \"\"\"\n",
    "    This file generates a CSV file of predictions on the Test set\n",
    "    and puts it in a 'submissions' folder in the current directory.\n",
    "    \n",
    "    Keyword arguments:\n",
    "    test (pandas dataframe) -- test file\n",
    "    predictions (pandas dataframe or ndarray) -- predictions on test set\n",
    "    force (boolean) -- determines whether to generate submission\n",
    "    \n",
    "    Returns:\n",
    "        None\n",
    "    \"\"\"\n",
    "    if force:\n",
    "        if not os.path.isdir(\"submissions\"):\n",
    "            os.mkdir(\"submissions\")\n",
    "        submission_df = pd.DataFrame({\n",
    "            \"id\": test_df.index.values, \n",
    "            \"animal class\": predictions,\n",
    "        },\n",
    "            columns=['id', 'animal class'])\n",
    "        timestamp = datetime.isoformat(datetime.now()).split(\".\")[0]\n",
    "        timestamp = re.sub(r':', r'_', timestamp)\n",
    "        submission_df.to_csv(Path(f'{os.getcwd()}/submissions/submission_{timestamp}.csv'), index=False)\n",
    "\n",
    "        print(f'Created a CSV file: submission_{timestamp}.csv')\n",
    "        print('You may now upload this CSV file for scoring.')"
   ]
  },
  {
   "cell_type": "code",
   "execution_count": 17,
   "metadata": {},
   "outputs": [
    {
     "name": "stdout",
     "output_type": "stream",
     "text": [
      "Created a CSV file: submission_2019-01-21T16_28_16.csv\n",
      "You may now upload this CSV file for scoring.\n"
     ]
    },
    {
     "name": "stderr",
     "output_type": "stream",
     "text": [
      "C:\\Users\\natek\\Anaconda3\\envs\\data-x\\lib\\site-packages\\sklearn\\linear_model\\logistic.py:433: FutureWarning: Default solver will be changed to 'lbfgs' in 0.22. Specify a solver to silence this warning.\n",
      "  FutureWarning)\n"
     ]
    }
   ],
   "source": [
    "# Train final best model once on full training set before using it on unlabelled test set \n",
    "final_model = log_reg_classifier.fit(X_train, y_train) \n",
    "final_predictions = final_model.predict(X_test)\n",
    "final_predictions = final_predictions.astype(int)\n",
    "\n",
    "# # Change to true to generate prediction\n",
    "generate_submission(test_df, final_predictions, True)"
   ]
  },
  {
   "cell_type": "code",
   "execution_count": null,
   "metadata": {},
   "outputs": [],
   "source": []
  }
 ],
 "metadata": {
  "kernelspec": {
   "display_name": "Python 3",
   "language": "python",
   "name": "python3"
  },
  "language_info": {
   "codemirror_mode": {
    "name": "ipython",
    "version": 3
   },
   "file_extension": ".py",
   "mimetype": "text/x-python",
   "name": "python",
   "nbconvert_exporter": "python",
   "pygments_lexer": "ipython3",
   "version": "3.6.8"
  }
 },
 "nbformat": 4,
 "nbformat_minor": 2
}
